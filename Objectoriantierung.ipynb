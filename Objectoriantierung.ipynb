{
 "cells": [
  {
   "cell_type": "code",
   "execution_count": 4,
   "metadata": {},
   "outputs": [
    {
     "name": "stdout",
     "output_type": "stream",
     "text": [
      "Erik Mustermann\n"
     ]
    }
   ],
   "source": [
    "class Student():\n",
    "    def name(self):\n",
    "        print(self.firstname + \" \" + self.lastname)\n",
    "    \n",
    "erik = Student()\n",
    "erik.firstname = \"Erik\"\n",
    "erik.lastname = \"Mustermann\"\n",
    "\n",
    "erik.name()"
   ]
  },
  {
   "cell_type": "code",
   "execution_count": 5,
   "metadata": {},
   "outputs": [
    {
     "name": "stdout",
     "output_type": "stream",
     "text": [
      "Musterfirma GmbH\n"
     ]
    }
   ],
   "source": [
    "class Company():\n",
    "    def name(self):\n",
    "        print(self.legalname + \" \" + self.type)\n",
    "        \n",
    "c = Company()\n",
    "c.legalname=\"Musterfirma\"\n",
    "c.type = \"GmbH\"\n",
    "\n",
    "c.name()"
   ]
  },
  {
   "cell_type": "code",
   "execution_count": 8,
   "metadata": {},
   "outputs": [
    {
     "name": "stdout",
     "output_type": "stream",
     "text": [
      "Musterfirma GmbH\n",
      "Musterfirma GmbH\n",
      "Musterfirma GmbH\n",
      "Musterfirma GmbH\n",
      "Musterfirma GmbH\n"
     ]
    }
   ],
   "source": [
    "def namex5(name):\n",
    "    for i in range(0,5):\n",
    "        name.name()\n",
    "        \n",
    "namex5(c)"
   ]
  },
  {
   "cell_type": "code",
   "execution_count": null,
   "metadata": {},
   "outputs": [],
   "source": []
  }
 ],
 "metadata": {
  "kernelspec": {
   "display_name": "Python 3",
   "language": "python",
   "name": "python3"
  },
  "language_info": {
   "codemirror_mode": {
    "name": "ipython",
    "version": 3
   },
   "file_extension": ".py",
   "mimetype": "text/x-python",
   "name": "python",
   "nbconvert_exporter": "python",
   "pygments_lexer": "ipython3",
   "version": "3.8.5"
  }
 },
 "nbformat": 4,
 "nbformat_minor": 4
}
