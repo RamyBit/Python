{
 "cells": [
  {
   "cell_type": "code",
   "execution_count": 11,
   "metadata": {},
   "outputs": [
    {
     "name": "stdout",
     "output_type": "stream",
     "text": [
      "Erik Mustermann (Simister: 2 )\n"
     ]
    }
   ],
   "source": [
    "class Student():\n",
    "    def __init__ (self, firstname, lastname):\n",
    "        self.firstname = firstname\n",
    "        self.lastname = lastname\n",
    "        self.term = 1\n",
    "        \n",
    "    def increace_term(self):\n",
    "        self.term = self.term + 1       \n",
    "        \n",
    "    def name(self):\n",
    "        print(self.firstname + \" \" + self.lastname + \" (Simister: \" + str(self.term) + \" )\")\n",
    "    \n",
    "erik = Student(\"Erik\", \"Mustermann\")\n",
    "erik.increace_term()\n",
    "\n",
    "erik.name()"
   ]
  },
  {
   "cell_type": "code",
   "execution_count": null,
   "metadata": {},
   "outputs": [],
   "source": []
  },
  {
   "cell_type": "code",
   "execution_count": null,
   "metadata": {},
   "outputs": [],
   "source": []
  },
  {
   "cell_type": "code",
   "execution_count": null,
   "metadata": {},
   "outputs": [],
   "source": []
  }
 ],
 "metadata": {
  "kernelspec": {
   "display_name": "Python 3",
   "language": "python",
   "name": "python3"
  },
  "language_info": {
   "codemirror_mode": {
    "name": "ipython",
    "version": 3
   },
   "file_extension": ".py",
   "mimetype": "text/x-python",
   "name": "python",
   "nbconvert_exporter": "python",
   "pygments_lexer": "ipython3",
   "version": "3.8.5"
  }
 },
 "nbformat": 4,
 "nbformat_minor": 4
}
