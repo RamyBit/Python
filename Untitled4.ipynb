{
 "cells": [
  {
   "cell_type": "code",
   "execution_count": 11,
   "metadata": {},
   "outputs": [],
   "source": [
    "continents = [\"Afrika\", \"Antarktis\", \"Asien \", \"Australien und Ozeanien\", \"Europa\", \"Nordamerika\", \"Südamerika\"]"
   ]
  },
  {
   "cell_type": "code",
   "execution_count": 12,
   "metadata": {},
   "outputs": [
    {
     "name": "stdout",
     "output_type": "stream",
     "text": [
      "Afrika\n",
      "Antarktis\n",
      "Asien \n",
      "Australien und Ozeanien\n",
      "Europa\n",
      "Nordamerika\n",
      "Südamerika\n"
     ]
    }
   ],
   "source": [
    "for continent in continents:\n",
    "    print(continent)"
   ]
  },
  {
   "cell_type": "code",
   "execution_count": 8,
   "metadata": {},
   "outputs": [
    {
     "name": "stdout",
     "output_type": "stream",
     "text": [
      "Afrika\n",
      "Asien \n",
      "Australien und Ozeanien\n",
      "Europa\n",
      "Nordamerika\n",
      "Südamerika\n"
     ]
    }
   ],
   "source": [
    "for continent in continents:\n",
    "    if continent != \"Antarktis\":\n",
    "        print(continent)"
   ]
  },
  {
   "cell_type": "code",
   "execution_count": 9,
   "metadata": {},
   "outputs": [],
   "source": [
    "stuff = [\"Asien\", \"Max\", 101, \"Monika\", \"China\", \"Simbabwe\", \"Antarktis\"]"
   ]
  },
  {
   "cell_type": "code",
   "execution_count": 13,
   "metadata": {},
   "outputs": [
    {
     "name": "stdout",
     "output_type": "stream",
     "text": [
      "Antarktis\n"
     ]
    }
   ],
   "source": [
    "for i in stuff:\n",
    "    for b in continents:\n",
    "        if i == b:\n",
    "            print(i)"
   ]
  },
  {
   "cell_type": "code",
   "execution_count": 4,
   "metadata": {},
   "outputs": [
    {
     "name": "stdout",
     "output_type": "stream",
     "text": [
      "30.0\n"
     ]
    }
   ],
   "source": [
    "price = 50\n",
    "\n",
    "if price > 0 and price <= 20:\n",
    "    price = price - 0.2 * price\n",
    "elif price >20 and price <= 50:\n",
    "    price = price - 0.4 * price\n",
    "elif price > 50:\n",
    "    price = price - 0.6 * price\n",
    "print(price)"
   ]
  },
  {
   "cell_type": "code",
   "execution_count": 6,
   "metadata": {},
   "outputs": [
    {
     "name": "stdout",
     "output_type": "stream",
     "text": [
      "[1.6, 30.0, 28.0, 18.0]\n"
     ]
    }
   ],
   "source": [
    "prices =[2, 50, 70, 30]\n",
    "new_prices = []\n",
    "\n",
    "for price in prices:\n",
    "    if price > 0 and price <= 20:\n",
    "        price = price - 0.2 * price\n",
    "    elif price >20 and price <= 50:\n",
    "        price = price - 0.4 * price\n",
    "    elif price > 50:\n",
    "        price = price - 0.6 * price\n",
    "    new_prices.append(price)\n",
    "    \n",
    "print(new_prices)"
   ]
  },
  {
   "cell_type": "code",
   "execution_count": 7,
   "metadata": {},
   "outputs": [
    {
     "ename": "NameError",
     "evalue": "name 'new' is not defined",
     "output_type": "error",
     "traceback": [
      "\u001b[1;31m---------------------------------------------------------------------------\u001b[0m",
      "\u001b[1;31mNameError\u001b[0m                                 Traceback (most recent call last)",
      "\u001b[1;32m<ipython-input-7-31408582b557>\u001b[0m in \u001b[0;36m<module>\u001b[1;34m\u001b[0m\n\u001b[0;32m      3\u001b[0m \u001b[1;33m\u001b[0m\u001b[0m\n\u001b[0;32m      4\u001b[0m \u001b[1;32mfor\u001b[0m \u001b[0mitem\u001b[0m \u001b[1;32min\u001b[0m \u001b[0mchaos\u001b[0m\u001b[1;33m:\u001b[0m\u001b[1;33m\u001b[0m\u001b[1;33m\u001b[0m\u001b[0m\n\u001b[1;32m----> 5\u001b[1;33m     \u001b[1;32mif\u001b[0m \u001b[1;34m\":\"\u001b[0m\u001b[1;33m.\u001b[0m\u001b[0msplit\u001b[0m\u001b[1;33m(\u001b[0m\u001b[0mitem\u001b[0m\u001b[1;33m)\u001b[0m \u001b[1;33m==\u001b[0m \u001b[0mnew\u001b[0m\u001b[1;33m:\u001b[0m\u001b[1;33m\u001b[0m\u001b[1;33m\u001b[0m\u001b[0m\n\u001b[0m\u001b[0;32m      6\u001b[0m         \u001b[0morder\u001b[0m\u001b[1;33m.\u001b[0m\u001b[0mappend\u001b[0m\u001b[1;33m(\u001b[0m\u001b[0mitem\u001b[0m\u001b[1;33m)\u001b[0m\u001b[1;33m\u001b[0m\u001b[1;33m\u001b[0m\u001b[0m\n\u001b[0;32m      7\u001b[0m     \u001b[1;32melif\u001b[0m \u001b[1;34m\":\"\u001b[0m\u001b[1;33m.\u001b[0m\u001b[0msplit\u001b[0m\u001b[1;33m(\u001b[0m\u001b[0mitem\u001b[0m\u001b[1;33m)\u001b[0m \u001b[1;33m==\u001b[0m \u001b[0mold\u001b[0m\u001b[1;33m:\u001b[0m\u001b[1;33m\u001b[0m\u001b[1;33m\u001b[0m\u001b[0m\n",
      "\u001b[1;31mNameError\u001b[0m: name 'new' is not defined"
     ]
    }
   ],
   "source": [
    "chaos =[\"old price: 40\", \"new price: 21\", \"old price: 29\", \"old price: 50\", \"new price: 101\"]\n",
    "order = []\n",
    "\n",
    "for item in chaos:\n",
    "    if \":\".split(item) == new:\n",
    "        order.append(item)\n",
    "    elif \":\".split(item) == old:\n",
    "        order.append(item)\n",
    "    \n",
    "print(order)"
   ]
  },
  {
   "cell_type": "code",
   "execution_count": null,
   "metadata": {},
   "outputs": [],
   "source": []
  }
 ],
 "metadata": {
  "kernelspec": {
   "display_name": "Python 3",
   "language": "python",
   "name": "python3"
  },
  "language_info": {
   "codemirror_mode": {
    "name": "ipython",
    "version": 3
   },
   "file_extension": ".py",
   "mimetype": "text/x-python",
   "name": "python",
   "nbconvert_exporter": "python",
   "pygments_lexer": "ipython3",
   "version": "3.8.5"
  }
 },
 "nbformat": 4,
 "nbformat_minor": 4
}
