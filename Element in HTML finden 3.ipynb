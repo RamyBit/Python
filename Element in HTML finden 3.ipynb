{
 "cells": [
  {
   "cell_type": "code",
   "execution_count": 14,
   "metadata": {},
   "outputs": [],
   "source": [
    "import requests"
   ]
  },
  {
   "cell_type": "code",
   "execution_count": null,
   "metadata": {},
   "outputs": [],
   "source": []
  },
  {
   "cell_type": "code",
   "execution_count": 15,
   "metadata": {},
   "outputs": [],
   "source": [
    "from bs4 import BeautifulSoup\n"
   ]
  },
  {
   "cell_type": "code",
   "execution_count": 20,
   "metadata": {},
   "outputs": [],
   "source": [
    "class CrawledArticle():\n",
    "    def __init__(self,title, emoji, content, image):\n",
    "        self.title = title\n",
    "        self.emoji = emoji\n",
    "        self.content = content\n",
    "        self.image = image\n",
    "        \n",
    "\n",
    "class ArticleFitcher():\n",
    "    def fitch(self):\n",
    "        r = requests.get(\"http://python.beispiel.programmierenlernen.io/index.php\")\n",
    "        doc = BeautifulSoup(r.text,\"html.parser\")\n",
    "        articles=[]\n",
    "        \n",
    "        for card in doc.select(\".card\"):\n",
    "            emoji = card.select_one(\".emoji\").text\n",
    "            content = card.select_one(\".card-text\").text\n",
    "            title = card.select(\".card-title span\")[1].text\n",
    "            image = card.select_one(\"img\").attrs[\"src\"]\n",
    "\n",
    "            crawled = CrawledArticle(title, emoji, content, image)\n",
    "            articles.append(crawled)\n",
    "            \n",
    "        return articles\n",
    "    \n"
   ]
  },
  {
   "cell_type": "code",
   "execution_count": 21,
   "metadata": {},
   "outputs": [
    {
     "data": {
      "text/plain": [
       "[<__main__.CrawledArticle at 0x28f4363d460>,\n",
       " <__main__.CrawledArticle at 0x28f4363d490>,\n",
       " <__main__.CrawledArticle at 0x28f4363d430>,\n",
       " <__main__.CrawledArticle at 0x28f4363d4f0>,\n",
       " <__main__.CrawledArticle at 0x28f4363d550>,\n",
       " <__main__.CrawledArticle at 0x28f4363d5b0>,\n",
       " <__main__.CrawledArticle at 0x28f4363d610>]"
      ]
     },
     "execution_count": 21,
     "metadata": {},
     "output_type": "execute_result"
    }
   ],
   "source": [
    "fitcher = ArticleFitcher()\n",
    "fitcher.fitch()"
   ]
  },
  {
   "cell_type": "code",
   "execution_count": null,
   "metadata": {},
   "outputs": [],
   "source": []
  }
 ],
 "metadata": {
  "kernelspec": {
   "display_name": "Python 3",
   "language": "python",
   "name": "python3"
  },
  "language_info": {
   "codemirror_mode": {
    "name": "ipython",
    "version": 3
   },
   "file_extension": ".py",
   "mimetype": "text/x-python",
   "name": "python",
   "nbconvert_exporter": "python",
   "pygments_lexer": "ipython3",
   "version": "3.8.5"
  }
 },
 "nbformat": 4,
 "nbformat_minor": 4
}
