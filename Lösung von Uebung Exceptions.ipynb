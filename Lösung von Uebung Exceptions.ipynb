{
 "cells": [
  {
   "cell_type": "code",
   "execution_count": 7,
   "metadata": {},
   "outputs": [
    {
     "name": "stdout",
     "output_type": "stream",
     "text": [
      "Datei wurde nicht gefunden\n"
     ]
    }
   ],
   "source": [
    "try:\n",
    "    with open(\"nicht_oeffnen.txt\", \"r\") as file:\n",
    "        print(file)\n",
    "except FileNotFoundError:\n",
    "    print(\"Datei wurde nicht gefunden\")"
   ]
  },
  {
   "cell_type": "code",
   "execution_count": 10,
   "metadata": {},
   "outputs": [
    {
     "name": "stdout",
     "output_type": "stream",
     "text": [
      "150\n",
      "1150\n",
      "key fiehlt in Dictionary\n"
     ]
    }
   ],
   "source": [
    "\n",
    "articles = [\"Unsichtbare Tastatur\", \"Holographisches Display\", \"Endlosschleifenschneider\"]\n",
    "\n",
    "prices = {\"Unsichtbare Tastatur\": 150, \"Holographisches Display\": 1150}\n",
    "\n",
    "def print_prices():\n",
    "    try:\n",
    "        for article in articles:\n",
    "            print(prices[article])\n",
    "    except KeyError:\n",
    "        print(\"key fehlt in Dictionary\")\n",
    "\n",
    "print_prices()"
   ]
  },
  {
   "cell_type": "code",
   "execution_count": 12,
   "metadata": {},
   "outputs": [
    {
     "ename": "EmptyDictionaryError",
     "evalue": "d erhalt keine Element",
     "output_type": "error",
     "traceback": [
      "\u001b[1;31m---------------------------------------------------------------------------\u001b[0m",
      "\u001b[1;31mEmptyDictionaryError\u001b[0m                      Traceback (most recent call last)",
      "\u001b[1;32m<ipython-input-12-9079ff432a82>\u001b[0m in \u001b[0;36m<module>\u001b[1;34m\u001b[0m\n\u001b[0;32m      4\u001b[0m \u001b[1;33m\u001b[0m\u001b[0m\n\u001b[0;32m      5\u001b[0m \u001b[1;32mif\u001b[0m \u001b[0mlen\u001b[0m\u001b[1;33m(\u001b[0m\u001b[0md\u001b[0m\u001b[1;33m)\u001b[0m \u001b[1;33m==\u001b[0m \u001b[1;36m0\u001b[0m\u001b[1;33m:\u001b[0m\u001b[1;33m\u001b[0m\u001b[1;33m\u001b[0m\u001b[0m\n\u001b[1;32m----> 6\u001b[1;33m     \u001b[1;32mraise\u001b[0m \u001b[0mEmptyDictionaryError\u001b[0m\u001b[1;33m(\u001b[0m\u001b[1;34m\"d erhalt keine Element\"\u001b[0m\u001b[1;33m)\u001b[0m\u001b[1;33m\u001b[0m\u001b[1;33m\u001b[0m\u001b[0m\n\u001b[0m\u001b[0;32m      7\u001b[0m \u001b[1;33m\u001b[0m\u001b[0m\n",
      "\u001b[1;31mEmptyDictionaryError\u001b[0m: d erhalt keine Element"
     ]
    }
   ],
   "source": [
    "d = {}\n",
    "class EmptyDictionaryError(Exception):\n",
    "    pass\n",
    "\n",
    "if len(d) == 0:\n",
    "    raise EmptyDictionaryError(\"d erhalt keine Element\")\n",
    "        \n"
   ]
  },
  {
   "cell_type": "code",
   "execution_count": null,
   "metadata": {},
   "outputs": [],
   "source": []
  }
 ],
 "metadata": {
  "kernelspec": {
   "display_name": "Python 3",
   "language": "python",
   "name": "python3"
  },
  "language_info": {
   "codemirror_mode": {
    "name": "ipython",
    "version": 3
   },
   "file_extension": ".py",
   "mimetype": "text/x-python",
   "name": "python",
   "nbconvert_exporter": "python",
   "pygments_lexer": "ipython3",
   "version": "3.8.5"
  }
 },
 "nbformat": 4,
 "nbformat_minor": 4
}
