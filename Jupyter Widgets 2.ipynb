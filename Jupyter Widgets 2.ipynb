{
 "cells": [
  {
   "cell_type": "code",
   "execution_count": 1,
   "metadata": {},
   "outputs": [],
   "source": [
    "import ipywidgets as widgets\n",
    "from IPython.display import display"
   ]
  },
  {
   "cell_type": "code",
   "execution_count": 8,
   "metadata": {},
   "outputs": [
    {
     "data": {
      "application/vnd.jupyter.widget-view+json": {
       "model_id": "b50e6af27f254623aa3d1eec09bc7f88",
       "version_major": 2,
       "version_minor": 0
      },
      "text/plain": [
       "IntText(value=25, description='Alter:')"
      ]
     },
     "metadata": {},
     "output_type": "display_data"
    },
    {
     "data": {
      "application/vnd.jupyter.widget-view+json": {
       "model_id": "f967439c24c44ecfa38ab0a7c519b0c8",
       "version_major": 2,
       "version_minor": 0
      },
      "text/plain": [
       "Button(description='OK', style=ButtonStyle())"
      ]
     },
     "metadata": {},
     "output_type": "display_data"
    },
    {
     "name": "stdout",
     "output_type": "stream",
     "text": [
      "Deine Alter ist : 25\n",
      "Deine Alter ist : 27\n",
      "Deine Alter ist : 28\n",
      "Deine Alter ist : 28\n",
      "Deine Alter ist : 28\n",
      "Deine Alter ist : 28\n",
      "Deine Alter ist : 28\n",
      "Deine Alter ist : 28\n"
     ]
    }
   ],
   "source": [
    "age = widgets.IntText(description=\"Alter:\", value= 25)\n",
    "display(age)\n",
    "def on_button_click(p):\n",
    "    print (\"Deine Alter ist : \" + str(age.value))\n",
    "button = widgets.Button(description=\"OK\")\n",
    "display(button)\n",
    "button.on_click(on_button_click)"
   ]
  },
  {
   "cell_type": "code",
   "execution_count": null,
   "metadata": {},
   "outputs": [],
   "source": []
  }
 ],
 "metadata": {
  "kernelspec": {
   "display_name": "Python 3",
   "language": "python",
   "name": "python3"
  },
  "language_info": {
   "codemirror_mode": {
    "name": "ipython",
    "version": 3
   },
   "file_extension": ".py",
   "mimetype": "text/x-python",
   "name": "python",
   "nbconvert_exporter": "python",
   "pygments_lexer": "ipython3",
   "version": "3.8.5"
  }
 },
 "nbformat": 4,
 "nbformat_minor": 4
}
