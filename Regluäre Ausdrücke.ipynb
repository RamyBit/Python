{
 "cells": [
  {
   "cell_type": "code",
   "execution_count": 1,
   "metadata": {},
   "outputs": [],
   "source": [
    "import re"
   ]
  },
  {
   "cell_type": "code",
   "execution_count": 17,
   "metadata": {},
   "outputs": [
    {
     "name": "stdout",
     "output_type": "stream",
     "text": [
      "['30', '4', '22']\n",
      "<re.Match object; span=(9, 11), match='30'>\n",
      "<re.Match object; span=(19, 23), match='diee'>\n"
     ]
    }
   ],
   "source": [
    "sentence =\"Ich habe 30 Hunde, dieei jeweils 4 Liter Wasser brauchen und 22 kg Nahrung\"\n",
    "print(re.findall(\"[0-9]+\", sentence))\n",
    "print(re.search(\"[0-9]+\", sentence))\n",
    "print(re.search(\"die\", sentence))"
   ]
  },
  {
   "cell_type": "code",
   "execution_count": null,
   "metadata": {},
   "outputs": [],
   "source": []
  }
 ],
 "metadata": {
  "kernelspec": {
   "display_name": "Python 3",
   "language": "python",
   "name": "python3"
  },
  "language_info": {
   "codemirror_mode": {
    "name": "ipython",
    "version": 3
   },
   "file_extension": ".py",
   "mimetype": "text/x-python",
   "name": "python",
   "nbconvert_exporter": "python",
   "pygments_lexer": "ipython3",
   "version": "3.8.5"
  }
 },
 "nbformat": 4,
 "nbformat_minor": 4
}
