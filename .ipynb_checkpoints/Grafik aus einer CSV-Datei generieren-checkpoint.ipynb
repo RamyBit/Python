{
 "cells": [
  {
   "cell_type": "code",
   "execution_count": 9,
   "metadata": {},
   "outputs": [
    {
     "name": "stdout",
     "output_type": "stream",
     "text": [
      "[] []\n",
      "[] []\n",
      "[] []\n",
      "[] []\n",
      "[] []\n",
      "[] []\n",
      "[] []\n",
      "[] []\n",
      "[] []\n",
      "[] []\n",
      "[] []\n"
     ]
    }
   ],
   "source": [
    "counter = 0\n",
    "xs =[]\n",
    "ys = []\n",
    "\n",
    "name = \"Anna\"\n",
    "gender =\"F\"\n",
    "state = \"CA\"\n",
    "\n",
    "with open(\"data/names.csv\", \"r\") as file:\n",
    "    for line in file:\n",
    "        counter = counter +1\n",
    "        data = line.strip().split(\",\")\n",
    "        if data[1] == name and data [3] == gender and data[4] == state:\n",
    "            xs.append(data[2])\n",
    "            ys.append(data[5])\n",
    "        print(xs, ys)\n",
    "        if counter > 10:\n",
    "            break"
   ]
  },
  {
   "cell_type": "code",
   "execution_count": null,
   "metadata": {},
   "outputs": [],
   "source": []
  }
 ],
 "metadata": {
  "kernelspec": {
   "display_name": "Python 3",
   "language": "python",
   "name": "python3"
  },
  "language_info": {
   "codemirror_mode": {
    "name": "ipython",
    "version": 3
   },
   "file_extension": ".py",
   "mimetype": "text/x-python",
   "name": "python",
   "nbconvert_exporter": "python",
   "pygments_lexer": "ipython3",
   "version": "3.8.5"
  }
 },
 "nbformat": 4,
 "nbformat_minor": 4
}
