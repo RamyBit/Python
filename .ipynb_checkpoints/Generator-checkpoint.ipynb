{
 "cells": [
  {
   "cell_type": "code",
   "execution_count": 6,
   "metadata": {},
   "outputs": [
    {
     "name": "stdout",
     "output_type": "stream",
     "text": [
      "list:0\n",
      "list:1\n",
      "list:2\n",
      "list:3\n",
      "list:4\n",
      "list:5\n",
      "list:6\n",
      "list:7\n",
      "list:8\n",
      "list:9\n",
      "for:0\n",
      "for:1\n",
      "for:2\n",
      "for:3\n",
      "for:4\n",
      "for:5\n",
      "for:6\n",
      "for:7\n",
      "for:8\n",
      "for:9\n"
     ]
    }
   ],
   "source": [
    "def make_list():\n",
    "    liste =[]\n",
    "    for i in range(0, 10):\n",
    "        liste.append(i)\n",
    "        print(\"list:\"+ str(i))\n",
    "        \n",
    "    return liste\n",
    "for element in make_list():\n",
    "    print(\"for:\"+ str(element))"
   ]
  },
  {
   "cell_type": "code",
   "execution_count": 7,
   "metadata": {},
   "outputs": [
    {
     "name": "stdout",
     "output_type": "stream",
     "text": [
      "for:0\n",
      "gen:0\n",
      "for:1\n",
      "gen:1\n",
      "for:2\n",
      "gen:2\n",
      "for:3\n",
      "gen:3\n",
      "for:4\n",
      "gen:4\n",
      "for:5\n",
      "gen:5\n",
      "for:6\n",
      "gen:6\n",
      "for:7\n",
      "gen:7\n",
      "for:8\n",
      "gen:8\n",
      "for:9\n",
      "gen:9\n"
     ]
    }
   ],
   "source": [
    "def gen_list():\n",
    "    for i in range (0, 10):\n",
    "        yield i\n",
    "        print(\"gen:\" + str(i))\n",
    "for element in gen_list():\n",
    "    print(\"for:\" + str(element))"
   ]
  },
  {
   "cell_type": "code",
   "execution_count": null,
   "metadata": {},
   "outputs": [],
   "source": []
  }
 ],
 "metadata": {
  "kernelspec": {
   "display_name": "Python 3",
   "language": "python",
   "name": "python3"
  },
  "language_info": {
   "codemirror_mode": {
    "name": "ipython",
    "version": 3
   },
   "file_extension": ".py",
   "mimetype": "text/x-python",
   "name": "python",
   "nbconvert_exporter": "python",
   "pygments_lexer": "ipython3",
   "version": "3.8.5"
  }
 },
 "nbformat": 4,
 "nbformat_minor": 4
}
