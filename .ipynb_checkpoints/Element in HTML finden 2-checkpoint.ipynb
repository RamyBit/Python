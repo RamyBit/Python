{
 "cells": [
  {
   "cell_type": "code",
   "execution_count": 2,
   "metadata": {},
   "outputs": [],
   "source": [
    "import requests"
   ]
  },
  {
   "cell_type": "code",
   "execution_count": 3,
   "metadata": {},
   "outputs": [],
   "source": [
    "r = requests.get(\"http://python.beispiel.programmierenlernen.io/index.php\")"
   ]
  },
  {
   "cell_type": "code",
   "execution_count": 5,
   "metadata": {},
   "outputs": [],
   "source": [
    "from bs4 import BeautifulSoup\n",
    "doc = BeautifulSoup(r.text,\"html.parser\")"
   ]
  },
  {
   "cell_type": "code",
   "execution_count": 23,
   "metadata": {},
   "outputs": [
    {
     "name": "stdout",
     "output_type": "stream",
     "text": [
      "😩\n",
      "Optio numquam ut accusantium laborum unde assumenda. Ea et totam asperiores fugiat voluptatem vitae. Et provident nam et mollitia.\n",
      "-Polarised modular conglomeration\n",
      "./img/1.jpg\n",
      "😐\n",
      "Deleniti atque autem et commodi cupiditate cupiditate. Fuga illum quas aliquam velit. Labore dolor fugit quia id odio nam.\n",
      "-Cross-group contextually-based middleware\n",
      "./img/2.jpg\n",
      "😌\n",
      "Assumenda tempora inventore harum cumque voluptatibus sit et. Et omnis et dolore quod voluptas sit a.\n",
      "-De-engineered encompassing structure\n",
      "./img/3.jpg\n",
      "😚\n",
      "Cumque unde officia autem quia at fugit. Sint iure veritatis culpa aut provident aliquam in. Eos eum accusantium quia vel dignissimos nesciunt expedita. Rem aut accusantium et tempore.\n",
      "-Fully-configurable multi-tasking interface\n",
      "./img/4.jpg\n",
      "😠\n",
      "Delectus distinctio quis omnis ut commodi sed. Beatae officia doloribus consequatur dolore. Consectetur impedit quia voluptas et ut. Incidunt rem mollitia fugiat quia corporis quo. Quod possimus ut et neque deserunt.\n",
      "-Versatile eco-centric core\n",
      "./img/5.jpg\n",
      "😮\n",
      "Consequatur sit deleniti sunt aut ullam eos. Vel ex ut sunt velit provident corporis consequatur. Ea est dolorum ut atque unde. Quasi itaque nihil pariatur.\n",
      "-Optional maximized utilisation\n",
      "./img/6.jpg\n",
      "😢\n",
      "Reiciendis dolor quisquam tempora in. Totam ut distinctio vero. Ullam maiores dolor sunt voluptas.\n",
      "-Open-architected secondary product\n",
      "./img/7.jpg\n"
     ]
    }
   ],
   "source": [
    "for card in doc.select(\".card\"):\n",
    "    emoji = card.select_one(\".emoji\").text\n",
    "    content = card.select_one(\".card-text\").text\n",
    "    title = card.select(\".card-title span\")[1].text\n",
    "    image = card.select_one(\"img\").attrs[\"src\"]\n",
    "    \n",
    "    \n",
    "    print(emoji)\n",
    "    print(content)\n",
    "    print(\"-\" + title)\n",
    "    print(image)"
   ]
  },
  {
   "cell_type": "code",
   "execution_count": null,
   "metadata": {},
   "outputs": [],
   "source": []
  }
 ],
 "metadata": {
  "kernelspec": {
   "display_name": "Python 3",
   "language": "python",
   "name": "python3"
  },
  "language_info": {
   "codemirror_mode": {
    "name": "ipython",
    "version": 3
   },
   "file_extension": ".py",
   "mimetype": "text/x-python",
   "name": "python",
   "nbconvert_exporter": "python",
   "pygments_lexer": "ipython3",
   "version": "3.8.5"
  }
 },
 "nbformat": 4,
 "nbformat_minor": 4
}
