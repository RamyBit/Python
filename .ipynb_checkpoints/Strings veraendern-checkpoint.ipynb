{
 "cells": [
  {
   "cell_type": "code",
   "execution_count": 2,
   "metadata": {},
   "outputs": [
    {
     "name": "stdout",
     "output_type": "stream",
     "text": [
      "HALLO\n",
      "hallo\n"
     ]
    }
   ],
   "source": [
    "print(\"Hallo\".upper())\n",
    "print(\"Hallo\".lower())"
   ]
  },
  {
   "cell_type": "code",
   "execution_count": 13,
   "metadata": {},
   "outputs": [
    {
     "name": "stdout",
     "output_type": "stream",
     "text": [
      "gib satze einIst das Wetter heute gut?\n",
      "Ist eine Frage.\n",
      "Ist ja ode nein Frage.\n"
     ]
    }
   ],
   "source": [
    "sentence = \"Ist das Wetter heute gut?\"\n",
    "sentence = input(\"gib satze ein: \")\n",
    "sentence = sentence.lower()\n",
    "if sentence.endswith(\"?\"):\n",
    "    print(\"Ist eine Frage.\")\n",
    "    if sentence.startswith(\"ist\"):\n",
    "        print(\"Ist ja ode nein Frage.\")"
   ]
  },
  {
   "cell_type": "code",
   "execution_count": 14,
   "metadata": {},
   "outputs": [
    {
     "name": "stdout",
     "output_type": "stream",
     "text": [
      "_____Hallo____\n",
      "    _____Hallo\n",
      "Hallo____.   \n",
      "ist das wetter Morgen gut?\n"
     ]
    }
   ],
   "source": [
    "word = \"    _____Hallo____.   \"\n",
    "print(word.strip(\" .\"))\n",
    "print(word.rstrip(\"_. \"))\n",
    "print(word.lstrip(\" _\"))\n",
    "print(sentence.replace(\"heute\",\"Morgen\"))"
   ]
  },
  {
   "cell_type": "code",
   "execution_count": 25,
   "metadata": {},
   "outputs": [
    {
     "name": "stdout",
     "output_type": "stream",
     "text": [
      "Pi =3.14 \n",
      "Ich habe 5 Katze und 5 Hunde\n"
     ]
    }
   ],
   "source": [
    "import math\n",
    "print (\"Pi ={0:.2f} \".format(math.pi))\n",
    "answer = \"Ich habe {num} {animal} und {num} {animal2}\"\n",
    "answer = answer.format(num =5, animal = \"Katze\", animal2=\"Hunde\")\n",
    "print(answer)"
   ]
  },
  {
   "cell_type": "markdown",
   "metadata": {},
   "source": []
  }
 ],
 "metadata": {
  "kernelspec": {
   "display_name": "Python 3",
   "language": "python",
   "name": "python3"
  },
  "language_info": {
   "codemirror_mode": {
    "name": "ipython",
    "version": 3
   },
   "file_extension": ".py",
   "mimetype": "text/x-python",
   "name": "python",
   "nbconvert_exporter": "python",
   "pygments_lexer": "ipython3",
   "version": "3.8.5"
  }
 },
 "nbformat": 4,
 "nbformat_minor": 4
}
