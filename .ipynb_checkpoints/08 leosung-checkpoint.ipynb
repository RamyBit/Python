{
 "cells": [
  {
   "cell_type": "code",
   "execution_count": 4,
   "metadata": {},
   "outputs": [],
   "source": [
    "class Cube():\n",
    "    def __init__(self, a):\n",
    "        self.a = a\n",
    "        \n",
    "    def surface(self):\n",
    "        return 6 * (self.a * self.a)\n",
    "    def volume(self):\n",
    "        return self.a * self.a * self.a"
   ]
  },
  {
   "cell_type": "code",
   "execution_count": 6,
   "metadata": {},
   "outputs": [
    {
     "name": "stdout",
     "output_type": "stream",
     "text": [
      "54\n",
      "27\n"
     ]
    }
   ],
   "source": [
    "a = Cube(3)\n",
    "print(a.surface())\n",
    "print(a.volume())"
   ]
  },
  {
   "cell_type": "code",
   "execution_count": 9,
   "metadata": {},
   "outputs": [],
   "source": [
    "import math\n",
    "class Ball():\n",
    "    def __init__(self,r):\n",
    "        self.r = r\n",
    "        \n",
    "    def surface(self):\n",
    "        return 4 * math.pi *self.r* self.r\n",
    "    \n",
    "    def volume(self):\n",
    "        return (4/3) * math.pi * self.r*self.r*self.r"
   ]
  },
  {
   "cell_type": "code",
   "execution_count": 12,
   "metadata": {},
   "outputs": [
    {
     "name": "stdout",
     "output_type": "stream",
     "text": [
      "201.06192982974676\n",
      "268.082573106329\n"
     ]
    }
   ],
   "source": [
    "b = Ball(4)\n",
    "print(b.surface())\n",
    "print(b.volume())"
   ]
  },
  {
   "cell_type": "code",
   "execution_count": 30,
   "metadata": {},
   "outputs": [
    {
     "ename": "IndentationError",
     "evalue": "expected an indented block (<ipython-input-30-aea5c6dcba1c>, line 19)",
     "output_type": "error",
     "traceback": [
      "\u001b[1;36m  File \u001b[1;32m\"<ipython-input-30-aea5c6dcba1c>\"\u001b[1;36m, line \u001b[1;32m19\u001b[0m\n\u001b[1;33m    self.balance = self.balance - amount\u001b[0m\n\u001b[1;37m    ^\u001b[0m\n\u001b[1;31mIndentationError\u001b[0m\u001b[1;31m:\u001b[0m expected an indented block\n"
     ]
    }
   ],
   "source": [
    "class Account():\n",
    "    def __init__(self, start_capital):\n",
    "        self.start_capital = start_capital\n",
    "        balance = self.start_capital\n",
    "        \n",
    "    def display(self):\n",
    "        self.balance \n",
    "        return balance\n",
    "    \n",
    "    def pay_in(self, amount):\n",
    "       \n",
    "        self.balance = self.balance + amount\n",
    "        \n",
    "    def withdrow(self, amount):\n",
    "       \n",
    "        if amount > self.balance:\n",
    "            print(\"Du kannst nur noch \"+ self.balance + \"abheben!\")\n",
    "        else:\n",
    "            self.balance = self.balance - amount\n",
    "        "
   ]
  },
  {
   "cell_type": "code",
   "execution_count": 23,
   "metadata": {},
   "outputs": [
    {
     "data": {
      "text/plain": [
       "500"
      ]
     },
     "execution_count": 23,
     "metadata": {},
     "output_type": "execute_result"
    }
   ],
   "source": [
    "konto111 = Account(500)\n",
    "konto111.display()\n"
   ]
  },
  {
   "cell_type": "code",
   "execution_count": null,
   "metadata": {},
   "outputs": [],
   "source": []
  }
 ],
 "metadata": {
  "kernelspec": {
   "display_name": "Python 3",
   "language": "python",
   "name": "python3"
  },
  "language_info": {
   "codemirror_mode": {
    "name": "ipython",
    "version": 3
   },
   "file_extension": ".py",
   "mimetype": "text/x-python",
   "name": "python",
   "nbconvert_exporter": "python",
   "pygments_lexer": "ipython3",
   "version": "3.8.5"
  }
 },
 "nbformat": 4,
 "nbformat_minor": 4
}
