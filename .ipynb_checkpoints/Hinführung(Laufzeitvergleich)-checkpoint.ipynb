{
 "cells": [
  {
   "cell_type": "markdown",
   "id": "b414c86c",
   "metadata": {},
   "source": [
    "### Konstante Laufzeit"
   ]
  },
  {
   "cell_type": "code",
   "execution_count": 1,
   "id": "cc34266e",
   "metadata": {},
   "outputs": [
    {
     "name": "stdout",
     "output_type": "stream",
     "text": [
      "--- nächstes n: 1---\n",
      "1 . Durchlauf von 5\n",
      "2 . Durchlauf von 5\n",
      "3 . Durchlauf von 5\n",
      "4 . Durchlauf von 5\n",
      "5 . Durchlauf von 5\n",
      "--- nächstes n: 2---\n",
      "1 . Durchlauf von 5\n",
      "2 . Durchlauf von 5\n",
      "3 . Durchlauf von 5\n",
      "4 . Durchlauf von 5\n",
      "5 . Durchlauf von 5\n",
      "--- nächstes n: 3---\n",
      "1 . Durchlauf von 5\n",
      "2 . Durchlauf von 5\n",
      "3 . Durchlauf von 5\n",
      "4 . Durchlauf von 5\n",
      "5 . Durchlauf von 5\n",
      "--- nächstes n: 4---\n",
      "1 . Durchlauf von 5\n",
      "2 . Durchlauf von 5\n",
      "3 . Durchlauf von 5\n",
      "4 . Durchlauf von 5\n",
      "5 . Durchlauf von 5\n",
      "--- nächstes n: 5---\n",
      "1 . Durchlauf von 5\n",
      "2 . Durchlauf von 5\n",
      "3 . Durchlauf von 5\n",
      "4 . Durchlauf von 5\n",
      "5 . Durchlauf von 5\n"
     ]
    }
   ],
   "source": [
    "def f(n):\n",
    "    print(\"--- nächstes n: \" + str(n) + \"---\")\n",
    "    for i in range(1, 6):\n",
    "        print(str(i) + \" . Durchlauf von 5\")\n",
    "        \n",
    "for n in range(1,6):\n",
    "    f(n)"
   ]
  },
  {
   "cell_type": "markdown",
   "id": "95e4b747",
   "metadata": {},
   "source": [
    "### Lineare Laufzeit"
   ]
  },
  {
   "cell_type": "code",
   "execution_count": 4,
   "id": "7bcbf3ef",
   "metadata": {},
   "outputs": [
    {
     "name": "stdout",
     "output_type": "stream",
     "text": [
      "--- nächstes n: 1---\n",
      "1 . Durchlauf von 1\n",
      "--- nächstes n: 2---\n",
      "1 . Durchlauf von 2\n",
      "2 . Durchlauf von 2\n",
      "--- nächstes n: 3---\n",
      "1 . Durchlauf von 3\n",
      "2 . Durchlauf von 3\n",
      "3 . Durchlauf von 3\n",
      "--- nächstes n: 4---\n",
      "1 . Durchlauf von 4\n",
      "2 . Durchlauf von 4\n",
      "3 . Durchlauf von 4\n",
      "4 . Durchlauf von 4\n",
      "--- nächstes n: 5---\n",
      "1 . Durchlauf von 5\n",
      "2 . Durchlauf von 5\n",
      "3 . Durchlauf von 5\n",
      "4 . Durchlauf von 5\n",
      "5 . Durchlauf von 5\n"
     ]
    }
   ],
   "source": [
    "def f(n):\n",
    "    print(\"--- nächstes n: \" + str(n) + \"---\")\n",
    "    \n",
    "    for i in range(1, n+1):\n",
    "        print(str(i) + \" . Durchlauf von \" + str(n))\n",
    "        \n",
    "for n in range(1,6):\n",
    "    f(n)"
   ]
  },
  {
   "cell_type": "markdown",
   "id": "bfa37899",
   "metadata": {},
   "source": [
    "### Quadratische Laufzeit"
   ]
  },
  {
   "cell_type": "code",
   "execution_count": 2,
   "id": "d426591f",
   "metadata": {},
   "outputs": [
    {
     "name": "stdout",
     "output_type": "stream",
     "text": [
      "--- nächstes n: 1---\n",
      "(i = 1, j= 1) - Durchlauf, n=1\n",
      "--- nächstes n: 2---\n",
      "(i = 1, j= 1) - Durchlauf, n=2\n",
      "(i = 2, j= 1) - Durchlauf, n=2\n",
      "(i = 1, j= 2) - Durchlauf, n=2\n",
      "(i = 2, j= 2) - Durchlauf, n=2\n",
      "--- nächstes n: 3---\n",
      "(i = 1, j= 1) - Durchlauf, n=3\n",
      "(i = 2, j= 1) - Durchlauf, n=3\n",
      "(i = 3, j= 1) - Durchlauf, n=3\n",
      "(i = 1, j= 2) - Durchlauf, n=3\n",
      "(i = 2, j= 2) - Durchlauf, n=3\n",
      "(i = 3, j= 2) - Durchlauf, n=3\n",
      "(i = 1, j= 3) - Durchlauf, n=3\n",
      "(i = 2, j= 3) - Durchlauf, n=3\n",
      "(i = 3, j= 3) - Durchlauf, n=3\n",
      "--- nächstes n: 4---\n",
      "(i = 1, j= 1) - Durchlauf, n=4\n",
      "(i = 2, j= 1) - Durchlauf, n=4\n",
      "(i = 3, j= 1) - Durchlauf, n=4\n",
      "(i = 4, j= 1) - Durchlauf, n=4\n",
      "(i = 1, j= 2) - Durchlauf, n=4\n",
      "(i = 2, j= 2) - Durchlauf, n=4\n",
      "(i = 3, j= 2) - Durchlauf, n=4\n",
      "(i = 4, j= 2) - Durchlauf, n=4\n",
      "(i = 1, j= 3) - Durchlauf, n=4\n",
      "(i = 2, j= 3) - Durchlauf, n=4\n",
      "(i = 3, j= 3) - Durchlauf, n=4\n",
      "(i = 4, j= 3) - Durchlauf, n=4\n",
      "(i = 1, j= 4) - Durchlauf, n=4\n",
      "(i = 2, j= 4) - Durchlauf, n=4\n",
      "(i = 3, j= 4) - Durchlauf, n=4\n",
      "(i = 4, j= 4) - Durchlauf, n=4\n",
      "--- nächstes n: 5---\n",
      "(i = 1, j= 1) - Durchlauf, n=5\n",
      "(i = 2, j= 1) - Durchlauf, n=5\n",
      "(i = 3, j= 1) - Durchlauf, n=5\n",
      "(i = 4, j= 1) - Durchlauf, n=5\n",
      "(i = 5, j= 1) - Durchlauf, n=5\n",
      "(i = 1, j= 2) - Durchlauf, n=5\n",
      "(i = 2, j= 2) - Durchlauf, n=5\n",
      "(i = 3, j= 2) - Durchlauf, n=5\n",
      "(i = 4, j= 2) - Durchlauf, n=5\n",
      "(i = 5, j= 2) - Durchlauf, n=5\n",
      "(i = 1, j= 3) - Durchlauf, n=5\n",
      "(i = 2, j= 3) - Durchlauf, n=5\n",
      "(i = 3, j= 3) - Durchlauf, n=5\n",
      "(i = 4, j= 3) - Durchlauf, n=5\n",
      "(i = 5, j= 3) - Durchlauf, n=5\n",
      "(i = 1, j= 4) - Durchlauf, n=5\n",
      "(i = 2, j= 4) - Durchlauf, n=5\n",
      "(i = 3, j= 4) - Durchlauf, n=5\n",
      "(i = 4, j= 4) - Durchlauf, n=5\n",
      "(i = 5, j= 4) - Durchlauf, n=5\n",
      "(i = 1, j= 5) - Durchlauf, n=5\n",
      "(i = 2, j= 5) - Durchlauf, n=5\n",
      "(i = 3, j= 5) - Durchlauf, n=5\n",
      "(i = 4, j= 5) - Durchlauf, n=5\n",
      "(i = 5, j= 5) - Durchlauf, n=5\n"
     ]
    }
   ],
   "source": [
    "def f(n):\n",
    "    print(\"--- nächstes n: \" + str(n) + \"---\")\n",
    "    for j in range(1, n+1):\n",
    "        for i in range(1, n+1):\n",
    "            print(\"(i = \" + str(i) + \", j= \" + str(j) + \") - Durchlauf, n=\" + str(n))\n",
    "            \n",
    "for n in range(1,6):\n",
    "    f(n)"
   ]
  },
  {
   "cell_type": "code",
   "execution_count": 6,
   "id": "4af3268d",
   "metadata": {},
   "outputs": [],
   "source": [
    "import matplotlib.pyplot as plt\n",
    "import numpy as np\n",
    "\n",
    "%matplotlib inline"
   ]
  },
  {
   "cell_type": "code",
   "execution_count": 9,
   "id": "b05d8402",
   "metadata": {},
   "outputs": [
    {
     "data": {
      "image/png": "[encoded data removed]",
      "text/plain": [
       "<Figure size 432x288 with 1 Axes>"
      ]
     },
     "metadata": {
      "needs_background": "light"
     },
     "output_type": "display_data"
    }
   ],
   "source": [
    "plt.plot(np.arange(1,6), np.repeat(5,5), label=\"Konstante Laufzeit\")\n",
    "plt.plot(np.arange(1,6), np.arange(1,6), label=\"Lineare Laufzeit\")\n",
    "plt.plot(np.arange(1,6), np.arange(1,6) ** 2, label=\"Quadratrische Laufzeit\")\n",
    "plt.legend()\n",
    "\n",
    "plt.xlabel(\"n\")\n",
    "plt.ylabel(\"Anzahl print() - Befehle\")\n",
    "plt.show()"
   ]
  },
  {
   "cell_type": "code",
   "execution_count": null,
   "id": "0ead0aa7",
   "metadata": {},
   "outputs": [],
   "source": []
  }
 ],
 "metadata": {
  "kernelspec": {
   "display_name": "Python 3 (ipykernel)",
   "language": "python",
   "name": "python3"
  },
  "language_info": {
   "codemirror_mode": {
    "name": "ipython",
    "version": 3
   },
   "file_extension": ".py",
   "mimetype": "text/x-python",
   "name": "python",
   "nbconvert_exporter": "python",
   "pygments_lexer": "ipython3",
   "version": "3.8.5"
  }
 },
 "nbformat": 4,
 "nbformat_minor": 5
}
