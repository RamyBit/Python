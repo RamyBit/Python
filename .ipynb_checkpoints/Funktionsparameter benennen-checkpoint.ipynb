{
 "cells": [
  {
   "cell_type": "code",
   "execution_count": 4,
   "metadata": {},
   "outputs": [
    {
     "name": "stdout",
     "output_type": "stream",
     "text": [
      "Hallo\n",
      "Hallo\n",
      "Hallo\n",
      "Hallo\n",
      "Hallo\n",
      "Hallo Welt\n",
      "Hallo Welt\n",
      "Hallo Welt\n",
      "Welt\n",
      "Welt\n",
      "Welt\n"
     ]
    }
   ],
   "source": [
    "def multi_print(count = 3, word = \"Hallo Welt\"):\n",
    "    for i in range (0, count):\n",
    "        print(word)\n",
    "        \n",
    "multi_print(5,\"Hallo\")\n",
    "multi_print()\n",
    "multi_print(word = \"Welt\")"
   ]
  },
  {
   "cell_type": "code",
   "execution_count": 5,
   "metadata": {},
   "outputs": [
    {
     "name": "stdout",
     "output_type": "stream",
     "text": [
      "3\n",
      "5\n"
     ]
    }
   ],
   "source": [
    "a = 5\n",
    "def f(x):\n",
    "    x = 3\n",
    "    print(x)\n",
    "f(a)    \n",
    "print(a)"
   ]
  },
  {
   "cell_type": "code",
   "execution_count": 6,
   "metadata": {},
   "outputs": [
    {
     "name": "stdout",
     "output_type": "stream",
     "text": [
      "['Hallo', 'Welt', '!!!']\n",
      "['Hallo', 'Welt', '!!!']\n"
     ]
    }
   ],
   "source": [
    "l = [\"Hallo\", \"Welt\"]\n",
    "def f(x):\n",
    "    x.append(\"!!!\")\n",
    "    print(x)\n",
    "f(l)\n",
    "print(l)"
   ]
  },
  {
   "cell_type": "code",
   "execution_count": 7,
   "metadata": {},
   "outputs": [
    {
     "name": "stdout",
     "output_type": "stream",
     "text": [
      "['Hi', 'Welt', '!!!']\n",
      "['Hallo', 'Welt']\n"
     ]
    }
   ],
   "source": [
    "l = [\"Hallo\", \"Welt\"]\n",
    "def f(x):\n",
    "    x = [\"Hi\", \"Welt\", \"!!!\"]\n",
    "    print(x)\n",
    "f(l)\n",
    "print(l)"
   ]
  },
  {
   "cell_type": "code",
   "execution_count": 9,
   "metadata": {},
   "outputs": [
    {
     "name": "stdout",
     "output_type": "stream",
     "text": [
      "1\n",
      "2\n",
      "3\n",
      "Hallo Welt\n"
     ]
    }
   ],
   "source": [
    "def printx(a,b,c):\n",
    "    print(a)\n",
    "    print(b)\n",
    "    print(c)\n",
    "    \n",
    "printx(1,2,3)\n",
    "print(*l)"
   ]
  },
  {
   "cell_type": "code",
   "execution_count": 13,
   "metadata": {},
   "outputs": [
    {
     "name": "stdout",
     "output_type": "stream",
     "text": [
      "(4, 1, 7, 2, 5, 3)\n",
      "7\n",
      "(4, 3, 1, 5, 9, 6)\n",
      "9\n"
     ]
    }
   ],
   "source": [
    "def calculate_max(*params):\n",
    "    print(params)\n",
    "    current_max = params[0]\n",
    "    for item in params:\n",
    "        if item > current_max:\n",
    "            current_max = item\n",
    "            \n",
    "    print(current_max)\n",
    "\n",
    "calculate_max(4,1,7,2,5,3)\n",
    "items = [4,3,1,5,9,6]\n",
    "calculate_max(*items)"
   ]
  },
  {
   "cell_type": "code",
   "execution_count": 23,
   "metadata": {},
   "outputs": [
    {
     "name": "stdout",
     "output_type": "stream",
     "text": [
      "{'key1': 'value1', 'key2': 'value2'}\n",
      "{'key1': '1', 'key2': '2'}\n"
     ]
    }
   ],
   "source": [
    "def printd(**args):\n",
    "    print(args)\n",
    "    \n",
    "printd(key1= \"value1\",key2= \"value2\" )\n",
    "d = {\"key1\":\"1\", \"key2\":\"2\"}\n",
    "printd(**d)\n",
    "    "
   ]
  },
  {
   "cell_type": "code",
   "execution_count": 25,
   "metadata": {},
   "outputs": [
    {
     "name": "stdout",
     "output_type": "stream",
     "text": [
      "Ich bin der Schlüssel\n",
      "Ich bin der Parameter\n"
     ]
    }
   ],
   "source": [
    "def g(key1,param1):\n",
    "    print(key1)\n",
    "    print(param1)\n",
    "    \n",
    "d = {\"key1\":\"Ich bin der Schlüssel\", \"param1\":\"Ich bin der Parameter\"}\n",
    "g(**d)"
   ]
  },
  {
   "cell_type": "code",
   "execution_count": 37,
   "metadata": {},
   "outputs": [
    {
     "data": {
      "image/png": "[encoded data removed]",
      "text/plain": [
       "<Figure size 432x288 with 1 Axes>"
      ]
     },
     "metadata": {
      "needs_background": "light"
     },
     "output_type": "display_data"
    },
    {
     "data": {
      "image/png": "[encoded data removed]",
      "text/plain": [
       "<Figure size 432x288 with 1 Axes>"
      ]
     },
     "metadata": {
      "needs_background": "light"
     },
     "output_type": "display_data"
    }
   ],
   "source": [
    "%matplotlib inline\n",
    "import matplotlib.pyplot as plt\n",
    "\n",
    "def create_plot(**plot_params):\n",
    "    plt.plot([1,2,3],[5,6,5],**plot_params)\n",
    "    plt.show()\n",
    "plot1={\"color\": \"r\",\"linewidth\":15,\"linestyle\":\"dashed\"}    \n",
    "create_plot(color=\"r\",linewidth=9,linestyle=\"dashed\")\n",
    "create_plot(**plot1)"
   ]
  },
  {
   "cell_type": "code",
   "execution_count": 38,
   "metadata": {},
   "outputs": [
    {
     "name": "stdout",
     "output_type": "stream",
     "text": [
      "['Erik', 'Franziska', 'Max', 'Monika']\n"
     ]
    }
   ],
   "source": [
    "l = [\"Max\", \"Monika\", \"Erik\", \"Franziska\"]\n",
    "l.sort()\n",
    "print(l)"
   ]
  },
  {
   "cell_type": "code",
   "execution_count": 40,
   "metadata": {},
   "outputs": [
    {
     "name": "stdout",
     "output_type": "stream",
     "text": [
      "['Monika', 'Max', 'Franziska', 'Erik']\n"
     ]
    }
   ],
   "source": [
    "l = [\"Max\", \"Monika\", \"Erik\", \"Franziska\"]\n",
    "l.sort(reverse=True)\n",
    "print(l)"
   ]
  },
  {
   "cell_type": "code",
   "execution_count": 42,
   "metadata": {},
   "outputs": [
    {
     "name": "stdout",
     "output_type": "stream",
     "text": [
      "['Max', 'Erik', 'Monika', 'Franziska']\n"
     ]
    }
   ],
   "source": [
    "l = [\"Max\", \"Monika\", \"Erik\", \"Franziska\"]\n",
    "l.sort(key=len)\n",
    "print(l)"
   ]
  },
  {
   "cell_type": "code",
   "execution_count": 50,
   "metadata": {},
   "outputs": [
    {
     "data": {
      "text/plain": [
       "{'id': 1, 'name': 'Max', 'Note': 1.2}"
      ]
     },
     "execution_count": 50,
     "metadata": {},
     "output_type": "execute_result"
    }
   ],
   "source": [
    "student_d = {\"id\":1,\"name\":\"Max\",\"Note\":1.2}\n",
    "print(sorted(student_d))\n",
    "print(student_d)"
   ]
  },
  {
   "cell_type": "code",
   "execution_count": null,
   "metadata": {},
   "outputs": [],
   "source": []
  }
 ],
 "metadata": {
  "kernelspec": {
   "display_name": "Python 3",
   "language": "python",
   "name": "python3"
  },
  "language_info": {
   "codemirror_mode": {
    "name": "ipython",
    "version": 3
   },
   "file_extension": ".py",
   "mimetype": "text/x-python",
   "name": "python",
   "nbconvert_exporter": "python",
   "pygments_lexer": "ipython3",
   "version": "3.8.5"
  }
 },
 "nbformat": 4,
 "nbformat_minor": 4
}
