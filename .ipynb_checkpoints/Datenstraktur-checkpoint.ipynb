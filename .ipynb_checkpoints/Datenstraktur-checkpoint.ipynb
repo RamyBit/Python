{
 "cells": [
  {
   "cell_type": "code",
   "execution_count": 2,
   "metadata": {},
   "outputs": [
    {
     "name": "stdout",
     "output_type": "stream",
     "text": [
      "{'Hallo', 'Mars', 'Welt'}\n",
      "{'Hallo', 'Hi', 'Mars', 'Welt'}\n"
     ]
    }
   ],
   "source": [
    "s = {\"Hallo\", \"Welt\", \"Hallo\", \"Mars\" }\n",
    "print(s)\n",
    "s.add(\"Hi\")\n",
    "print(s)"
   ]
  },
  {
   "cell_type": "code",
   "execution_count": 3,
   "metadata": {},
   "outputs": [
    {
     "name": "stdout",
     "output_type": "stream",
     "text": [
      "{'Hallo', 'Eos', 'Mars', 'Welt'}\n"
     ]
    }
   ],
   "source": [
    "text=\"Hallo Welt Hallo Mars Hallo Eos\"\n",
    "words = set()\n",
    "for word in text.split(\" \"):\n",
    "    words.add(word)\n",
    "print(words)"
   ]
  },
  {
   "cell_type": "code",
   "execution_count": null,
   "metadata": {},
   "outputs": [],
   "source": []
  }
 ],
 "metadata": {
  "kernelspec": {
   "display_name": "Python 3",
   "language": "python",
   "name": "python3"
  },
  "language_info": {
   "codemirror_mode": {
    "name": "ipython",
    "version": 3
   },
   "file_extension": ".py",
   "mimetype": "text/x-python",
   "name": "python",
   "nbconvert_exporter": "python",
   "pygments_lexer": "ipython3",
   "version": "3.8.5"
  }
 },
 "nbformat": 4,
 "nbformat_minor": 4
}
