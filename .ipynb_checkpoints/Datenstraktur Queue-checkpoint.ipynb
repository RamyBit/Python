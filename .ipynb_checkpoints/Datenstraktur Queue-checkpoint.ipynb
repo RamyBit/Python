{
 "cells": [
  {
   "cell_type": "code",
   "execution_count": 10,
   "metadata": {},
   "outputs": [
    {
     "name": "stdout",
     "output_type": "stream",
     "text": [
      "<queue.Queue object at 0x0000022A739FE9D0>\n",
      "Welt\n",
      "Hallo\n",
      "Mars\n",
      "bye\n",
      "Hi\n",
      "Welt\n",
      "Hallo\n",
      "Mars\n",
      "bye\n",
      "Hi\n"
     ]
    }
   ],
   "source": [
    "import queue\n",
    "q = queue.Queue()\n",
    "\n",
    "q.put(\"Hallo\")\n",
    "q.put(\"Welt\")\n",
    "q.put(\"Hallo\")\n",
    "q.put(\"Mars\")\n",
    "q.put(\"bye\")\n",
    "\n",
    "print (q)\n",
    "q.get()\n",
    "q.put(\"Hi\")\n",
    "counter =0\n",
    "while not q.empty():\n",
    "    element=q.get()\n",
    "    print(element)\n",
    "    element = q.put(element)\n",
    "    counter +=1\n",
    "    if counter == 10:\n",
    "        break"
   ]
  },
  {
   "cell_type": "code",
   "execution_count": 22,
   "metadata": {},
   "outputs": [
    {
     "name": "stdout",
     "output_type": "stream",
     "text": [
      "{'A': 4, 'B': 2, 'C': 6, 'D': 8}\n",
      "<queue.PriorityQueue object at 0x0000022A739FE490>\n",
      "(-8, 'D')\n",
      "(-6, 'C')\n",
      "(-4, 'A')\n",
      "(-2, 'B')\n"
     ]
    }
   ],
   "source": [
    "pq = queue.PriorityQueue()\n",
    "\n",
    "text = \"A A A A B B C C C C C C D D D D D D D D\"\n",
    "d={}\n",
    "for word in text.split(\" \"):\n",
    "    if word in d:\n",
    "        d[word] = d[word] + 1\n",
    "    else:\n",
    "        d[word] = 1\n",
    "        \n",
    "print(d)\n",
    "\n",
    "for word, number in d.items():\n",
    "    pq.put((-number, word))\n",
    "    \n",
    "print (pq)\n",
    "while not pq.empty():\n",
    "    print(pq.get())"
   ]
  },
  {
   "cell_type": "code",
   "execution_count": null,
   "metadata": {},
   "outputs": [],
   "source": []
  }
 ],
 "metadata": {
  "kernelspec": {
   "display_name": "Python 3",
   "language": "python",
   "name": "python3"
  },
  "language_info": {
   "codemirror_mode": {
    "name": "ipython",
    "version": 3
   },
   "file_extension": ".py",
   "mimetype": "text/x-python",
   "name": "python",
   "nbconvert_exporter": "python",
   "pygments_lexer": "ipython3",
   "version": "3.8.5"
  }
 },
 "nbformat": 4,
 "nbformat_minor": 4
}
