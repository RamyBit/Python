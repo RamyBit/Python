{
 "cells": [
  {
   "cell_type": "code",
   "execution_count": 5,
   "metadata": {},
   "outputs": [
    {
     "name": "stdout",
     "output_type": "stream",
     "text": [
      "Die Zahl n ist kleiner als 10\n",
      "Ich bin nicht mehr eingerückt !\n"
     ]
    }
   ],
   "source": [
    "n = 5\n",
    "if n < 10:\n",
    "    print('Die Zahl n ist kleiner als 10')    \n",
    "else:\n",
    "    print(\"Die Zahl n ist größer als 10\")\n",
    "    \n",
    "print(\"Ich bin nicht mehr eingerückt !\")"
   ]
  },
  {
   "cell_type": "code",
   "execution_count": 7,
   "metadata": {},
   "outputs": [
    {
     "name": "stdout",
     "output_type": "stream",
     "text": [
      "True\n",
      "False\n"
     ]
    }
   ],
   "source": [
    "print (5 == 5)\n",
    "print (5 != 5)"
   ]
  },
  {
   "cell_type": "code",
   "execution_count": 8,
   "metadata": {},
   "outputs": [
    {
     "name": "stdout",
     "output_type": "stream",
     "text": [
      "True\n",
      "False\n"
     ]
    }
   ],
   "source": [
    "word = \"Hallo\"\n",
    "print(word == \"Hallo\")\n",
    "print(word == \"Welt\")"
   ]
  },
  {
   "cell_type": "code",
   "execution_count": 11,
   "metadata": {},
   "outputs": [
    {
     "name": "stdout",
     "output_type": "stream",
     "text": [
      "Dise Person darf kein Alkohol trinken\n"
     ]
    }
   ],
   "source": [
    "country = \"US\"\n",
    "age = 20\n",
    "\n",
    "if ( country == \"US\" and age >= 21) or (country !=\"US\" and age >= 18):\n",
    "    print(\"Diese Person darf Alkohol trinken\")\n",
    "else:\n",
    "    print(\"Dise Person darf kein Alkohol trinken\")"
   ]
  },
  {
   "cell_type": "code",
   "execution_count": 13,
   "metadata": {},
   "outputs": [
    {
     "name": "stdout",
     "output_type": "stream",
     "text": [
      "Ja, die Monika studiert hier!\n",
      "Nein, der Moritz studiert hier nicht!\n"
     ]
    }
   ],
   "source": [
    "students = [\"Max\", \"Monika\", \"Erik\", \"Franziska\"]\n",
    "if \"Monika\" in students:\n",
    "    print (\"Ja, die Monika studiert hier!\")\n",
    "else:\n",
    "    print(\"Nein, die Monika studiert hier nicht!\")\n",
    "    \n",
    "if \"Moritz\" in students:\n",
    "     print (\"Ja, der Moritz studiert hier!\")\n",
    "else:\n",
    "    print(\"Nein, der Moritz studiert hier nicht!\")"
   ]
  },
  {
   "cell_type": "code",
   "execution_count": null,
   "metadata": {},
   "outputs": [],
   "source": []
  }
 ],
 "metadata": {
  "kernelspec": {
   "display_name": "Python 3",
   "language": "python",
   "name": "python3"
  },
  "language_info": {
   "codemirror_mode": {
    "name": "ipython",
    "version": 3
   },
   "file_extension": ".py",
   "mimetype": "text/x-python",
   "name": "python",
   "nbconvert_exporter": "python",
   "pygments_lexer": "ipython3",
   "version": "3.8.5"
  }
 },
 "nbformat": 4,
 "nbformat_minor": 4
}
