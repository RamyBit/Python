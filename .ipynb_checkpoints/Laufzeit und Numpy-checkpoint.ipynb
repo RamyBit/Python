{
 "cells": [
  {
   "cell_type": "code",
   "execution_count": 5,
   "id": "93a16bac",
   "metadata": {},
   "outputs": [],
   "source": [
    "import numpy as np\n",
    "import math\n",
    "\n",
    "N = 1000000\n",
    "\n",
    "entries_np = np.random.random(N)"
   ]
  },
  {
   "cell_type": "code",
   "execution_count": 6,
   "id": "71c4b0e4",
   "metadata": {},
   "outputs": [
    {
     "data": {
      "text/plain": [
       "array([0.20785284, 0.83554834, 0.6409331 , ..., 0.46245112, 0.66627163,\n",
       "       0.4033775 ])"
      ]
     },
     "execution_count": 6,
     "metadata": {},
     "output_type": "execute_result"
    }
   ],
   "source": [
    "entries_np"
   ]
  },
  {
   "cell_type": "code",
   "execution_count": 7,
   "id": "8cefff3a",
   "metadata": {},
   "outputs": [],
   "source": [
    "entries = list(entries_np)"
   ]
  },
  {
   "cell_type": "code",
   "execution_count": 9,
   "id": "dbc6cbae",
   "metadata": {},
   "outputs": [
    {
     "name": "stdout",
     "output_type": "stream",
     "text": [
      "176 ms ± 2.68 ms per loop (mean ± std. dev. of 10 runs, 3 loops each)\n"
     ]
    }
   ],
   "source": [
    "%%timeit -n3 -r10\n",
    "out = []\n",
    "for entry in entries:\n",
    "    out.append(math.sqrt(entry))"
   ]
  },
  {
   "cell_type": "code",
   "execution_count": 11,
   "id": "e9d34d25",
   "metadata": {},
   "outputs": [
    {
     "name": "stdout",
     "output_type": "stream",
     "text": [
      "145 ms ± 1.57 ms per loop (mean ± std. dev. of 10 runs, 3 loops each)\n"
     ]
    }
   ],
   "source": [
    "%%timeit -n3 -r10\n",
    "out = [math.sqrt(entry) for entry in entries]"
   ]
  },
  {
   "cell_type": "code",
   "execution_count": 13,
   "id": "e7e658b8",
   "metadata": {},
   "outputs": [
    {
     "name": "stdout",
     "output_type": "stream",
     "text": [
      "2.05 ms ± 271 µs per loop (mean ± std. dev. of 10 runs, 3 loops each)\n"
     ]
    }
   ],
   "source": [
    "%%timeit -n3 -r10\n",
    "out = np.sqrt(entries_np)"
   ]
  },
  {
   "cell_type": "code",
   "execution_count": null,
   "id": "9f14ecc1",
   "metadata": {},
   "outputs": [],
   "source": []
  }
 ],
 "metadata": {
  "kernelspec": {
   "display_name": "Python 3 (ipykernel)",
   "language": "python",
   "name": "python3"
  },
  "language_info": {
   "codemirror_mode": {
    "name": "ipython",
    "version": 3
   },
   "file_extension": ".py",
   "mimetype": "text/x-python",
   "name": "python",
   "nbconvert_exporter": "python",
   "pygments_lexer": "ipython3",
   "version": "3.8.5"
  }
 },
 "nbformat": 4,
 "nbformat_minor": 5
}
