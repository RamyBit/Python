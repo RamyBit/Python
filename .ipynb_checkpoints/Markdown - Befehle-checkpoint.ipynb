{
 "cells": [
  {
   "cell_type": "markdown",
   "metadata": {},
   "source": [
    "# Überschrift\n",
    "## Überschrift 2. Ordnung\n",
    "### Überschrift 3. Ordnung\n",
    "Ich bin ein *ganz* **normaler** absatz\n",
    "\n",
    "- Liste\n",
    "- Weiterer Punkt\n",
    "- Noch ein Punkt\n",
    "\n",
    "1. numer1 Punkt\n",
    "1. numer1 Punkt\n",
    "1. numer1 Punkt\n",
    "\n",
    "Das hier ist ganz normaler Text\n",
    "> Und dieser Test soll eingerückt sein\n",
    "(Max Mustermann, 2020)\n",
    "\n",
    "|Name       | Nachname  |\n",
    "|-----------|-----------|\n",
    "|Max        | Mustermann|"
   ]
  },
  {
   "cell_type": "code",
   "execution_count": null,
   "metadata": {},
   "outputs": [],
   "source": []
  }
 ],
 "metadata": {
  "kernelspec": {
   "display_name": "Python 3",
   "language": "python",
   "name": "python3"
  },
  "language_info": {
   "codemirror_mode": {
    "name": "ipython",
    "version": 3
   },
   "file_extension": ".py",
   "mimetype": "text/x-python",
   "name": "python",
   "nbconvert_exporter": "python",
   "pygments_lexer": "ipython3",
   "version": "3.8.5"
  }
 },
 "nbformat": 4,
 "nbformat_minor": 4
}
