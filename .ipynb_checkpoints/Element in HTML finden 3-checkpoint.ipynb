{
 "cells": [
  {
   "cell_type": "code",
   "execution_count": 4,
   "metadata": {},
   "outputs": [],
   "source": [
    "import requests"
   ]
  },
  {
   "cell_type": "code",
   "execution_count": 5,
   "metadata": {},
   "outputs": [],
   "source": []
  },
  {
   "cell_type": "code",
   "execution_count": 6,
   "metadata": {},
   "outputs": [],
   "source": [
    "from bs4 import BeautifulSoup\n"
   ]
  },
  {
   "cell_type": "code",
   "execution_count": 13,
   "metadata": {},
   "outputs": [
    {
     "name": "stdout",
     "output_type": "stream",
     "text": [
      "[<__main__.CrawledArticle object at 0x0000028F435E1580>, <__main__.CrawledArticle object at 0x0000028F435E1070>, <__main__.CrawledArticle object at 0x0000028F435E13D0>, <__main__.CrawledArticle object at 0x0000028F435E1730>, <__main__.CrawledArticle object at 0x0000028F435E1250>, <__main__.CrawledArticle object at 0x0000028F435E1D30>, <__main__.CrawledArticle object at 0x0000028F435E16D0>]\n"
     ]
    }
   ],
   "source": [
    "class CrawledArticle():\n",
    "    def __init__(self,title, emoji, content, image):\n",
    "        self.title = title\n",
    "        self.emoji = emoji\n",
    "        self.content = content\n",
    "        self.image = image\n",
    "        \n",
    "\n",
    "class ArticleFitcher():\n",
    "    def fitch():\n",
    "        r = requests.get(\"http://python.beispiel.programmierenlernen.io/index.php\")\n",
    "        doc = BeautifulSoup(r.text,\"html.parser\")\n",
    "        articles=[]\n",
    "        for card in doc.select(\".card\"):\n",
    "            emoji = card.select_one(\".emoji\").text\n",
    "            content = card.select_one(\".card-text\").text\n",
    "            title = card.select(\".card-title span\")[1].text\n",
    "            image = card.select_one(\"img\").attrs[\"src\"]\n",
    "\n",
    "            crawled = CrawledArticle(title, emoji, content, image)\n",
    "            articles.append(crawled)\n",
    "    \n",
    "print (articles)"
   ]
  },
  {
   "cell_type": "code",
   "execution_count": null,
   "metadata": {},
   "outputs": [],
   "source": []
  }
 ],
 "metadata": {
  "kernelspec": {
   "display_name": "Python 3",
   "language": "python",
   "name": "python3"
  },
  "language_info": {
   "codemirror_mode": {
    "name": "ipython",
    "version": 3
   },
   "file_extension": ".py",
   "mimetype": "text/x-python",
   "name": "python",
   "nbconvert_exporter": "python",
   "pygments_lexer": "ipython3",
   "version": "3.8.5"
  }
 },
 "nbformat": 4,
 "nbformat_minor": 4
}
