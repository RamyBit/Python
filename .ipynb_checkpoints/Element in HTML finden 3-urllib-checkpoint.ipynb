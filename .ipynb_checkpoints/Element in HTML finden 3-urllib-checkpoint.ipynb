{
 "cells": [
  {
   "cell_type": "code",
   "execution_count": 31,
   "metadata": {},
   "outputs": [],
   "source": [
    "import requests"
   ]
  },
  {
   "cell_type": "code",
   "execution_count": 32,
   "metadata": {},
   "outputs": [],
   "source": [
    "import time"
   ]
  },
  {
   "cell_type": "code",
   "execution_count": 33,
   "metadata": {},
   "outputs": [],
   "source": [
    "from bs4 import BeautifulSoup\n",
    "from urllib.parse import urljoin"
   ]
  },
  {
   "cell_type": "code",
   "execution_count": 34,
   "metadata": {},
   "outputs": [],
   "source": [
    "class CrawledArticle():\n",
    "    def __init__(self,title, emoji, content, image):\n",
    "        self.title = title\n",
    "        self.emoji = emoji\n",
    "        self.content = content\n",
    "        self.image = image\n",
    "        \n",
    "\n",
    "class ArticleFitcher():\n",
    "    def fitch(self):\n",
    "        url =  \"http://python.beispiel.programmierenlernen.io/index.php\"\n",
    "        articles=[]\n",
    "        while url != \"\":\n",
    "            time.sleep(1)\n",
    "            print (url)\n",
    "            r = requests.get(url)\n",
    "            doc = BeautifulSoup(r.text,\"html.parser\")\n",
    "            \n",
    "\n",
    "            for card in doc.select(\".card\"):\n",
    "                emoji = card.select_one(\".emoji\").text\n",
    "                content = card.select_one(\".card-text\").text\n",
    "                title = card.select(\".card-title span\")[1].text\n",
    "                image = urljoin(url, card.select_one(\"img\").attrs[\"src\"])\n",
    "\n",
    "                crawled = CrawledArticle(title, emoji, content, image)\n",
    "                articles.append(crawled)\n",
    "                \n",
    "            next_button = doc.select_one(\".navigation .btn\")\n",
    "            if next_button:\n",
    "                next_href = next_button.attrs[\"href\"]\n",
    "                next_href = urljoin(url,next_href)\n",
    "                url = next_href\n",
    "            else:\n",
    "                url = \"\"\n",
    "            \n",
    "        return articles\n",
    "    \n"
   ]
  },
  {
   "cell_type": "code",
   "execution_count": 35,
   "metadata": {},
   "outputs": [
    {
     "name": "stdout",
     "output_type": "stream",
     "text": [
      "http://python.beispiel.programmierenlernen.io/index.php\n",
      "http://python.beispiel.programmierenlernen.io/index.php?page=2\n",
      "http://python.beispiel.programmierenlernen.io/index.php?page=3\n",
      "http://python.beispiel.programmierenlernen.io/index.php?page=4\n",
      "http://python.beispiel.programmierenlernen.io/index.php?page=5\n",
      "http://python.beispiel.programmierenlernen.io/index.php?page=6\n",
      "http://python.beispiel.programmierenlernen.io/img/36.jpg\n",
      "http://python.beispiel.programmierenlernen.io/img/37.jpg\n",
      "http://python.beispiel.programmierenlernen.io/img/38.jpg\n",
      "http://python.beispiel.programmierenlernen.io/img/39.jpg\n",
      "http://python.beispiel.programmierenlernen.io/img/40.jpg\n",
      "http://python.beispiel.programmierenlernen.io/img/41.jpg\n"
     ]
    }
   ],
   "source": [
    "fitcher = ArticleFitcher()\n",
    "articles = fitcher.fitch()\n",
    "\n",
    "for article in articles:\n",
    "    print(article.emoji + \" \" + article.title)"
   ]
  },
  {
   "cell_type": "code",
   "execution_count": null,
   "metadata": {},
   "outputs": [],
   "source": []
  },
  {
   "cell_type": "code",
   "execution_count": null,
   "metadata": {},
   "outputs": [],
   "source": []
  }
 ],
 "metadata": {
  "kernelspec": {
   "display_name": "Python 3",
   "language": "python",
   "name": "python3"
  },
  "language_info": {
   "codemirror_mode": {
    "name": "ipython",
    "version": 3
   },
   "file_extension": ".py",
   "mimetype": "text/x-python",
   "name": "python",
   "nbconvert_exporter": "python",
   "pygments_lexer": "ipython3",
   "version": "3.8.5"
  }
 },
 "nbformat": 4,
 "nbformat_minor": 4
}
