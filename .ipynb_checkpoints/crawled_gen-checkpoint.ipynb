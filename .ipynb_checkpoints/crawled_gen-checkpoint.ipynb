{
 "cells": [
  {
   "cell_type": "code",
   "execution_count": 1,
   "metadata": {},
   "outputs": [],
   "source": [
    "import requests"
   ]
  },
  {
   "cell_type": "code",
   "execution_count": 2,
   "metadata": {},
   "outputs": [],
   "source": [
    "import time"
   ]
  },
  {
   "cell_type": "code",
   "execution_count": 3,
   "metadata": {},
   "outputs": [],
   "source": [
    "from bs4 import BeautifulSoup\n",
    "from urllib.parse import urljoin"
   ]
  },
  {
   "cell_type": "code",
   "execution_count": 4,
   "metadata": {},
   "outputs": [],
   "source": [
    "class CrawledArticle():\n",
    "    def __init__(self,title, emoji, content, image):\n",
    "        self.title = title\n",
    "        self.emoji = emoji\n",
    "        self.content = content\n",
    "        self.image = image\n",
    "        \n",
    "\n",
    "class ArticleFitcher():\n",
    "    def fitch(self):\n",
    "        url =  \"http://python.beispiel.programmierenlernen.io/index.php\"\n",
    "       \n",
    "        while url != \"\":\n",
    "            time.sleep(1)\n",
    "            print (url)\n",
    "            r = requests.get(url)\n",
    "            doc = BeautifulSoup(r.text,\"html.parser\")\n",
    "            \n",
    "\n",
    "            for card in doc.select(\".card\"):\n",
    "                emoji = card.select_one(\".emoji\").text\n",
    "                content = card.select_one(\".card-text\").text\n",
    "                title = card.select(\".card-title span\")[1].text\n",
    "                image = urljoin(url, card.select_one(\"img\").attrs[\"src\"])\n",
    "\n",
    "                crawled = CrawledArticle(title, emoji, content, image)\n",
    "                yield crawled\n",
    "                \n",
    "            next_button = doc.select_one(\".navigation .btn\")\n",
    "            if next_button:\n",
    "                next_href = next_button.attrs[\"href\"]\n",
    "                next_href = urljoin(url,next_href)\n",
    "                url = next_href\n",
    "            else:\n",
    "                url = \"\"\n",
    "            \n",
    "        \n",
    "    \n"
   ]
  },
  {
   "cell_type": "code",
   "execution_count": 5,
   "metadata": {},
   "outputs": [
    {
     "name": "stdout",
     "output_type": "stream",
     "text": [
      "http://python.beispiel.programmierenlernen.io/index.php\n",
      "😩 Polarised modular conglomeration\n",
      "😐 Cross-group contextually-based middleware\n",
      "😌 De-engineered encompassing structure\n",
      "😚 Fully-configurable multi-tasking interface\n",
      "😠 Versatile eco-centric core\n",
      "😮 Optional maximized utilisation\n",
      "😢 Open-architected secondary product\n",
      "http://python.beispiel.programmierenlernen.io/index.php?page=2\n",
      "😠 Realigned zerotolerance function\n"
     ]
    }
   ],
   "source": [
    "fitcher = ArticleFitcher()\n",
    "counter=0\n",
    "\n",
    "for article in fitcher.fitch():\n",
    "    if counter == 8:\n",
    "        break\n",
    "       \n",
    "    print(article.emoji + \" \" + article.title)\n",
    "    counter = counter +1"
   ]
  },
  {
   "cell_type": "code",
   "execution_count": null,
   "metadata": {},
   "outputs": [],
   "source": []
  },
  {
   "cell_type": "code",
   "execution_count": null,
   "metadata": {},
   "outputs": [],
   "source": []
  }
 ],
 "metadata": {
  "kernelspec": {
   "display_name": "Python 3",
   "language": "python",
   "name": "python3"
  },
  "language_info": {
   "codemirror_mode": {
    "name": "ipython",
    "version": 3
   },
   "file_extension": ".py",
   "mimetype": "text/x-python",
   "name": "python",
   "nbconvert_exporter": "python",
   "pygments_lexer": "ipython3",
   "version": "3.8.5"
  }
 },
 "nbformat": 4,
 "nbformat_minor": 4
}
