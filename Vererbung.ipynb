{
 "cells": [
  {
   "cell_type": "code",
   "execution_count": 7,
   "metadata": {},
   "outputs": [],
   "source": [
    "class Student():\n",
    "    def __init__(self,firstname, surname):\n",
    "        self.firstname = firstname\n",
    "        self.surname = surname\n",
    "        \n",
    "    def name(self):\n",
    "        return self.firstname + \" \" + self.surname\n",
    "    \n",
    "class WorkingStudent(Student):\n",
    "    def __init__(self,firstname, surname, company):\n",
    "        super().__init__(firstname, surname)\n",
    "        self.company = company\n",
    "        \n",
    "    def name(self):\n",
    "        return super().name() + \" ( \" + self.company +\" ) \""
   ]
  },
  {
   "cell_type": "code",
   "execution_count": 9,
   "metadata": {},
   "outputs": [
    {
     "name": "stdout",
     "output_type": "stream",
     "text": [
      "Max Master ( AAAA GmbH ) \n",
      "Erika Mustername\n",
      "Erik Mustermann\n",
      "Franziska Mustermann ( BBBB GmbH ) \n"
     ]
    }
   ],
   "source": [
    "students = [\n",
    "    WorkingStudent(\"Max\", \"Master\",\"AAAA GmbH\"),\n",
    "    Student(\"Erika\", \"Mustername\"),\n",
    "    Student(\"Erik\", \"Mustermann\"),\n",
    "    WorkingStudent(\"Franziska\", \"Mustermann\", \"BBBB GmbH\")    \n",
    "]\n",
    "\n",
    "for student in students:\n",
    "    print (student.name())"
   ]
  },
  {
   "cell_type": "code",
   "execution_count": null,
   "metadata": {},
   "outputs": [],
   "source": []
  }
 ],
 "metadata": {
  "kernelspec": {
   "display_name": "Python 3",
   "language": "python",
   "name": "python3"
  },
  "language_info": {
   "codemirror_mode": {
    "name": "ipython",
    "version": 3
   },
   "file_extension": ".py",
   "mimetype": "text/x-python",
   "name": "python",
   "nbconvert_exporter": "python",
   "pygments_lexer": "ipython3",
   "version": "3.8.5"
  }
 },
 "nbformat": 4,
 "nbformat_minor": 4
}
