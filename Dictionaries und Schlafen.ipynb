{
 "cells": [
  {
   "cell_type": "code",
   "execution_count": 6,
   "metadata": {},
   "outputs": [
    {
     "name": "stdout",
     "output_type": "stream",
     "text": [
      "Berlin :BER\n",
      "Fankfurt :FRA\n",
      "Bayren :BYR\n"
     ]
    }
   ],
   "source": [
    "d = {\"Berlin\" : \"BER\", \"Fankfurt\": \"FRA\", \"Bayren\": \"BYR\" }\n",
    "\n",
    "for key, value in d.items():\n",
    "    print(key + \" :\" + value)"
   ]
  },
  {
   "cell_type": "code",
   "execution_count": null,
   "metadata": {},
   "outputs": [],
   "source": []
  }
 ],
 "metadata": {
  "kernelspec": {
   "display_name": "Python 3",
   "language": "python",
   "name": "python3"
  },
  "language_info": {
   "codemirror_mode": {
    "name": "ipython",
    "version": 3
   },
   "file_extension": ".py",
   "mimetype": "text/x-python",
   "name": "python",
   "nbconvert_exporter": "python",
   "pygments_lexer": "ipython3",
   "version": "3.8.5"
  }
 },
 "nbformat": 4,
 "nbformat_minor": 4
}
