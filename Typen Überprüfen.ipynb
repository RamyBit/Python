{
 "cells": [
  {
   "cell_type": "code",
   "execution_count": 18,
   "metadata": {},
   "outputs": [],
   "source": [
    "class Student():\n",
    "    def __init__(self,firstname,surname):\n",
    "        self.firstname = firstname\n",
    "        self.surname = surname\n",
    "        \n",
    "    def name(self):\n",
    "        return self.firstname + \" \" + self.surname\n",
    "    \n",
    "class WorkingStudent(Student):\n",
    "    def __init__(self,firstname, surname, company):\n",
    "        super().__init__(firstname, surname)\n",
    "        self.company = company\n",
    "        \n",
    "    def name(self):\n",
    "        return super().name() + \"(\" + self.company + \")\""
   ]
  },
  {
   "cell_type": "code",
   "execution_count": 19,
   "metadata": {},
   "outputs": [],
   "source": [
    "w_student = WorkingStudent(\"Max\", \"Mustermann\", \"ABCDEF GmbH\")\n",
    "student = Student(\"Monika\", \"Musterberg\")"
   ]
  },
  {
   "cell_type": "code",
   "execution_count": 20,
   "metadata": {},
   "outputs": [
    {
     "name": "stdout",
     "output_type": "stream",
     "text": [
      "<class '__main__.WorkingStudent'>\n",
      "<class '__main__.Student'>\n",
      "True\n",
      "False\n"
     ]
    }
   ],
   "source": [
    "print(type(w_student))\n",
    "print(type(student))\n",
    "print(isinstance(w_student,Student))\n",
    "print(isinstance(student,WorkingStudent))"
   ]
  },
  {
   "cell_type": "code",
   "execution_count": 24,
   "metadata": {},
   "outputs": [
    {
     "name": "stdout",
     "output_type": "stream",
     "text": [
      "Max Mustermann(ADCDEF GmbH) sind Studenten, die arbeiten\n",
      "Franziska Mustername(XYZXYZ GmbH) sind Studenten, die arbeiten\n"
     ]
    }
   ],
   "source": [
    "students= [\n",
    "    WorkingStudent(\"Max\", \"Mustermann\", \"ADCDEF GmbH\"),\n",
    "    Student(\"Monkia\", \"Musterfrau\"),\n",
    "    Student(\"Erik\", \"Musterberg\"),\n",
    "    WorkingStudent(\"Franziska\", \"Mustername\", \"XYZXYZ GmbH\")\n",
    "]\n",
    "\n",
    "for student in students:\n",
    "    if type(student)== WorkingStudent:\n",
    "        print(student.name()+\" sind Studenten, die arbeiten\")"
   ]
  },
  {
   "cell_type": "code",
   "execution_count": null,
   "metadata": {},
   "outputs": [],
   "source": []
  }
 ],
 "metadata": {
  "kernelspec": {
   "display_name": "Python 3",
   "language": "python",
   "name": "python3"
  },
  "language_info": {
   "codemirror_mode": {
    "name": "ipython",
    "version": 3
   },
   "file_extension": ".py",
   "mimetype": "text/x-python",
   "name": "python",
   "nbconvert_exporter": "python",
   "pygments_lexer": "ipython3",
   "version": "3.8.5"
  }
 },
 "nbformat": 4,
 "nbformat_minor": 4
}
