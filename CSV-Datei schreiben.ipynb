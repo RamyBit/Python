{
 "cells": [
  {
   "cell_type": "code",
   "execution_count": 2,
   "metadata": {},
   "outputs": [],
   "source": [
    "import csv\n",
    "import ipywidgets as widgets\n",
    "from IPython.display import display"
   ]
  },
  {
   "cell_type": "code",
   "execution_count": 19,
   "metadata": {
    "scrolled": true
   },
   "outputs": [
    {
     "data": {
      "application/vnd.jupyter.widget-view+json": {
       "model_id": "7f2bacc4aed344e8a0e33f2256c96433",
       "version_major": 2,
       "version_minor": 0
      },
      "text/plain": [
       "Text(value='', description='Name')"
      ]
     },
     "metadata": {},
     "output_type": "display_data"
    },
    {
     "data": {
      "application/vnd.jupyter.widget-view+json": {
       "model_id": "849ea4954c1346c3b310038984e8b0a9",
       "version_major": 2,
       "version_minor": 0
      },
      "text/plain": [
       "Text(value='', description='Nachname')"
      ]
     },
     "metadata": {},
     "output_type": "display_data"
    },
    {
     "data": {
      "application/vnd.jupyter.widget-view+json": {
       "model_id": "82e62414bf0049e2897d1db8e71cee0f",
       "version_major": 2,
       "version_minor": 0
      },
      "text/plain": [
       "Dropdown(description='Fach', options=('---', 'Mathe', 'Informatik', 'Philosophie', 'Kulturwissenschaften', 'Ps…"
      ]
     },
     "metadata": {},
     "output_type": "display_data"
    },
    {
     "data": {
      "application/vnd.jupyter.widget-view+json": {
       "model_id": "30bfc36764e141c3bfbe3cf8ef2f3970",
       "version_major": 2,
       "version_minor": 0
      },
      "text/plain": [
       "Button(description='Speischern!', style=ButtonStyle())"
      ]
     },
     "metadata": {},
     "output_type": "display_data"
    }
   ],
   "source": [
    "liste=[]\n",
    "\n",
    "name = widgets.Text(description=\"Name\")\n",
    "surname = widgets.Text(description=\"Nachname\")\n",
    "subject = widgets.Dropdown(\n",
    "            options=[\"---\",\"Mathe\",\"Informatik\",\"Philosophie\",\"Kulturwissenschaften\",\"Psychologie\"],\n",
    "            value = \"---\",\n",
    "            description=\"Fach\"\n",
    ")\n",
    "button = widgets.Button(description=\"Speischern!\")\n",
    "display(name)\n",
    "display(surname)\n",
    "display(subject)\n",
    "display(button)\n",
    "\n",
    " \n",
    "def is_valid():\n",
    "    if name.value !=\"\" and surname.value!=\"\" and subject.value!=\"---\":\n",
    "        return True\n",
    "def create_list():\n",
    "    liste.append( name.value)\n",
    "    liste.append (surname.value)\n",
    "    liste.append(subject.value)\n",
    "    \n",
    "def save_file():\n",
    "    with open(\"fachsutdents.csv\",\"a\", newline='',encoding=\"utf-8\") as csvfile:\n",
    "        spamwriter = csv.writer(csvfile, delimiter = ';', quotechar = '\"', quoting=csv.QUOTE_MINIMAL)\n",
    "        spamwriter.writerow(liste)\n",
    "    \n",
    "def button_click(p):\n",
    "    if is_valid() == True:\n",
    "        create_list()\n",
    "        print(liste)\n",
    "        save_file()\n",
    "    else:\n",
    "        print(\"Error not valid\")\n",
    "        \n",
    "button.on_click(button_click)"
   ]
  },
  {
   "cell_type": "code",
   "execution_count": null,
   "metadata": {},
   "outputs": [],
   "source": []
  },
  {
   "cell_type": "code",
   "execution_count": null,
   "metadata": {},
   "outputs": [],
   "source": []
  }
 ],
 "metadata": {
  "kernelspec": {
   "display_name": "Python 3",
   "language": "python",
   "name": "python3"
  },
  "language_info": {
   "codemirror_mode": {
    "name": "ipython",
    "version": 3
   },
   "file_extension": ".py",
   "mimetype": "text/x-python",
   "name": "python",
   "nbconvert_exporter": "python",
   "pygments_lexer": "ipython3",
   "version": "3.8.5"
  }
 },
 "nbformat": 4,
 "nbformat_minor": 4
}
