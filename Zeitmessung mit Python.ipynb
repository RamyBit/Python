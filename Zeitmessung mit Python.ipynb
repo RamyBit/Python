{
 "cells": [
  {
   "cell_type": "code",
   "execution_count": 2,
   "id": "42ce0ec2",
   "metadata": {},
   "outputs": [],
   "source": [
    "from datetime import datetime"
   ]
  },
  {
   "cell_type": "code",
   "execution_count": 3,
   "id": "ab41790a",
   "metadata": {},
   "outputs": [
    {
     "name": "stdout",
     "output_type": "stream",
     "text": [
      "10000000\n",
      "0:00:00.811803\n"
     ]
    }
   ],
   "source": [
    "start = datetime.now()\n",
    "\n",
    "x = 0\n",
    "for i in range (0,10000000):\n",
    "    x = x + 1\n",
    "\n",
    "print(x)\n",
    "    \n",
    "end = datetime.now()\n",
    "print (end - start)"
   ]
  },
  {
   "cell_type": "code",
   "execution_count": 5,
   "id": "7571285d",
   "metadata": {},
   "outputs": [
    {
     "name": "stdout",
     "output_type": "stream",
     "text": [
      "10000000\n",
      "0:00:00.446804\n"
     ]
    }
   ],
   "source": [
    "def inner():\n",
    "    x = 0\n",
    "    for i in range (0,10000000):\n",
    "        x = x + 1\n",
    "\n",
    "    print(x)\n",
    "    \n",
    "    \n",
    "start = datetime.now()\n",
    "inner()\n",
    "\n",
    "end = datetime.now()\n",
    "print (end - start)"
   ]
  },
  {
   "cell_type": "code",
   "execution_count": 6,
   "id": "7501aa40",
   "metadata": {},
   "outputs": [
    {
     "name": "stdout",
     "output_type": "stream",
     "text": [
      "10000000\n",
      "10000000\n",
      "10000000\n",
      "10000000\n",
      "10000000\n",
      "10000000\n",
      "10000000\n",
      "10000000\n",
      "10000000\n",
      "10000000\n",
      "10000000\n",
      "10000000\n",
      "10000000\n",
      "10000000\n",
      "10000000\n",
      "453 ms ± 3.67 ms per loop (mean ± std. dev. of 5 runs, 3 loops each)\n"
     ]
    }
   ],
   "source": [
    "%%timeit -n3 -r5\n",
    "inner()"
   ]
  },
  {
   "cell_type": "code",
   "execution_count": null,
   "id": "c290f324",
   "metadata": {},
   "outputs": [],
   "source": []
  }
 ],
 "metadata": {
  "kernelspec": {
   "display_name": "Python 3 (ipykernel)",
   "language": "python",
   "name": "python3"
  },
  "language_info": {
   "codemirror_mode": {
    "name": "ipython",
    "version": 3
   },
   "file_extension": ".py",
   "mimetype": "text/x-python",
   "name": "python",
   "nbconvert_exporter": "python",
   "pygments_lexer": "ipython3",
   "version": "3.8.5"
  }
 },
 "nbformat": 4,
 "nbformat_minor": 5
}
