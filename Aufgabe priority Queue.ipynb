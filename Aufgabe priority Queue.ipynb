{
 "cells": [
  {
   "cell_type": "code",
   "execution_count": 19,
   "metadata": {},
   "outputs": [
    {
     "name": "stdout",
     "output_type": "stream",
     "text": [
      "(-4957166, 'James')\n",
      "(-4845414, 'John')\n",
      "(-4725713, 'Robert')\n",
      "(-4312975, 'Michael')\n"
     ]
    }
   ],
   "source": [
    "import csv\n",
    "import queue\n",
    "\n",
    "\n",
    "\n",
    "\"\"\"\"def count_word(name, **names):\n",
    "    if name in names:\n",
    "        names[name]=+ 1\n",
    "    else:\n",
    "        names[name] = 1 \"\"\"\n",
    "names = {}\n",
    "pq= queue.PriorityQueue()\n",
    "with open(\"data/names.csv\", newline=\"\") as file:\n",
    "    spamreader = csv.reader(file, delimiter=\",\", quotechar= '\"')\n",
    "    counter = 0\n",
    "    for row in spamreader:\n",
    "        if counter != 0:\n",
    "            number = int(row[5])\n",
    "            name = row[1]\n",
    "            \n",
    "            if name in names:\n",
    "                names[name]=names[name] +  number\n",
    "            else:\n",
    "                names[name] = number\n",
    "        counter +=1\n",
    "        \n",
    "for name, count in names.items():\n",
    "    pq.put((-count, name))\n",
    "    \n",
    "for i in range(0,4):\n",
    "    print(pq.get())"
   ]
  },
  {
   "cell_type": "code",
   "execution_count": null,
   "metadata": {},
   "outputs": [],
   "source": []
  }
 ],
 "metadata": {
  "kernelspec": {
   "display_name": "Python 3",
   "language": "python",
   "name": "python3"
  },
  "language_info": {
   "codemirror_mode": {
    "name": "ipython",
    "version": 3
   },
   "file_extension": ".py",
   "mimetype": "text/x-python",
   "name": "python",
   "nbconvert_exporter": "python",
   "pygments_lexer": "ipython3",
   "version": "3.8.5"
  }
 },
 "nbformat": 4,
 "nbformat_minor": 4
}
