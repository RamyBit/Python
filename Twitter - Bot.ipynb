{
 "cells": [
  {
   "cell_type": "code",
   "execution_count": 1,
   "metadata": {},
   "outputs": [],
   "source": [
    "import random"
   ]
  },
  {
   "cell_type": "code",
   "execution_count": 4,
   "metadata": {},
   "outputs": [
    {
     "name": "stdout",
     "output_type": "stream",
     "text": [
      "2\n"
     ]
    }
   ],
   "source": [
    "print(random.randint(0,10))"
   ]
  },
  {
   "cell_type": "code",
   "execution_count": 5,
   "metadata": {},
   "outputs": [],
   "source": [
    "part1 = [\"Putin,\", \"Hillary,\", \"Obama,\", \"Fake News,\", \"Mexico,\" \"Arnold Schwarzenegger\", \"The Democrats\"]\n",
    "part2 = [\"no talent,\", \"on the way down,\", \"really poor numbers,\", \"nasty tone\", \"looking like a fool,\", \"bad numbers,\"]\n",
    "part3 = [\"got destroyed by my ratings.\", \"rigged the election.\", \"had a much smaller crowd.\", \"will pay for the wall\" ]\n",
    "part4 = [\"So sad\", \"Apologize\", \"So true\", \"Media won't report\", \"Big trouble\", \"Fabtastic job\", \"Stay tuned\"]"
   ]
  },
  {
   "cell_type": "code",
   "execution_count": 6,
   "metadata": {},
   "outputs": [],
   "source": [
    "best_words =[part1, part2, part3, part4]"
   ]
  },
  {
   "cell_type": "code",
   "execution_count": 7,
   "metadata": {},
   "outputs": [
    {
     "data": {
      "text/plain": [
       "[['Putin,',\n",
       "  'Hillary,',\n",
       "  'Obama,',\n",
       "  'Fake News,',\n",
       "  'Mexico,Arnold Schwarzenegger',\n",
       "  'The Democrats'],\n",
       " ['no talent,',\n",
       "  'on the way down,',\n",
       "  'really poor numbers,',\n",
       "  'nasty tone',\n",
       "  'looking like a fool,',\n",
       "  'bad numbers,'],\n",
       " ['got destroyed by my ratings.',\n",
       "  'rigged the election.',\n",
       "  'had a much smaller crowd.',\n",
       "  'will pay for the wall'],\n",
       " ['So sad',\n",
       "  'Apologize',\n",
       "  'So true',\n",
       "  \"Media won't report\",\n",
       "  'Big trouble',\n",
       "  'Fabtastic job',\n",
       "  'Stay tuned']]"
      ]
     },
     "execution_count": 7,
     "metadata": {},
     "output_type": "execute_result"
    }
   ],
   "source": [
    "best_words"
   ]
  },
  {
   "cell_type": "code",
   "execution_count": 21,
   "metadata": {},
   "outputs": [
    {
     "name": "stdout",
     "output_type": "stream",
     "text": [
      "Fake News, bad numbers, got destroyed by my ratings. So true!\n"
     ]
    }
   ],
   "source": [
    "sentence =[]\n",
    "for part in best_words:\n",
    "    r = random.randint(0, len(part) - 1 )\n",
    "    sentence.append(part[r])\n",
    "print(\" \".join(sentence) + \"!\")"
   ]
  },
  {
   "cell_type": "code",
   "execution_count": null,
   "metadata": {},
   "outputs": [],
   "source": []
  }
 ],
 "metadata": {
  "kernelspec": {
   "display_name": "Python 3",
   "language": "python",
   "name": "python3"
  },
  "language_info": {
   "codemirror_mode": {
    "name": "ipython",
    "version": 3
   },
   "file_extension": ".py",
   "mimetype": "text/x-python",
   "name": "python",
   "nbconvert_exporter": "python",
   "pygments_lexer": "ipython3",
   "version": "3.8.5"
  }
 },
 "nbformat": 4,
 "nbformat_minor": 4
}
