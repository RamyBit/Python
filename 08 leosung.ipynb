{
 "cells": [
  {
   "cell_type": "code",
   "execution_count": 4,
   "metadata": {},
   "outputs": [],
   "source": [
    "class Cube():\n",
    "    def __init__(self, a):\n",
    "        self.a = a\n",
    "        \n",
    "    def surface(self):\n",
    "        return 6 * (self.a * self.a)\n",
    "    def volume(self):\n",
    "        return self.a * self.a * self.a"
   ]
  },
  {
   "cell_type": "code",
   "execution_count": 6,
   "metadata": {},
   "outputs": [
    {
     "name": "stdout",
     "output_type": "stream",
     "text": [
      "54\n",
      "27\n"
     ]
    }
   ],
   "source": [
    "a = Cube(3)\n",
    "print(a.surface())\n",
    "print(a.volume())"
   ]
  },
  {
   "cell_type": "code",
   "execution_count": 9,
   "metadata": {},
   "outputs": [],
   "source": [
    "import math\n",
    "class Ball():\n",
    "    def __init__(self,r):\n",
    "        self.r = r\n",
    "        \n",
    "    def surface(self):\n",
    "        return 4 * math.pi *self.r* self.r\n",
    "    \n",
    "    def volume(self):\n",
    "        return (4/3) * math.pi * self.r*self.r*self.r"
   ]
  },
  {
   "cell_type": "code",
   "execution_count": 12,
   "metadata": {},
   "outputs": [
    {
     "name": "stdout",
     "output_type": "stream",
     "text": [
      "201.06192982974676\n",
      "268.082573106329\n"
     ]
    }
   ],
   "source": [
    "b = Ball(4)\n",
    "print(b.surface())\n",
    "print(b.volume())"
   ]
  },
  {
   "cell_type": "code",
   "execution_count": 49,
   "metadata": {},
   "outputs": [],
   "source": [
    "class Account():\n",
    "    def __init__(self, start_capital, pin):\n",
    "        self.start_capital = start_capital\n",
    "        self.balance = self.start_capital\n",
    "        self.pin = pin\n",
    "        \n",
    "    def display(self):\n",
    "        print (self.balance)\n",
    "    \n",
    "    def pay_in(self, amount):\n",
    "       \n",
    "        self.balance = self.balance + amount\n",
    "        \n",
    "    def withdraw(self, amount, pin):\n",
    "        if pin == self.pin:\n",
    "            if amount > self.balance:\n",
    "                print(\"Du kannst nur noch \"+ str (self.balance) + \" abheben!\")\n",
    "            else:\n",
    "                self.balance = self.balance - amount\n",
    "        else:\n",
    "            print(\"Falsche PIN!\")\n",
    "        "
   ]
  },
  {
   "cell_type": "code",
   "execution_count": 51,
   "metadata": {},
   "outputs": [
    {
     "name": "stdout",
     "output_type": "stream",
     "text": [
      "500\n",
      "540\n",
      "515\n",
      "Falsche PIN!\n"
     ]
    }
   ],
   "source": [
    "konto111 = Account(500, \"1234\")\n",
    "konto111.display()\n",
    "konto111.pay_in(40)\n",
    "konto111.display()\n",
    "konto111.withdraw(25,\"1234\")\n",
    "konto111.display()\n",
    "konto111.withdraw(600, \"1111\")"
   ]
  },
  {
   "cell_type": "code",
   "execution_count": 81,
   "metadata": {},
   "outputs": [],
   "source": [
    "class Train():\n",
    "    def __init__(self, route, position):\n",
    "        self.route = route\n",
    "        self.position = position\n",
    "        \n",
    "    def show_station(self):\n",
    "        print(self.route[self.position])\n",
    "        \n",
    "    def move(self):\n",
    "        if (0 <= self.position < len(self.route)- 1):\n",
    "            self.position +=1\n",
    "        else:\n",
    "            print(\"Endstation!\")\n",
    "            \n",
    "    def move_back(self):\n",
    "        if (0 <= self.position < len(self.route) - 1):\n",
    "            self.position -=1\n",
    "        else:\n",
    "            print(\"Endstation!\")\n",
    "            \n",
    "    def bypass_station(self,station):\n",
    "        if station in self.route:\n",
    "            self.route.remove(station)\n",
    "            self.position =0\n",
    "        \n",
    "    "
   ]
  },
  {
   "cell_type": "code",
   "execution_count": 82,
   "metadata": {},
   "outputs": [
    {
     "name": "stdout",
     "output_type": "stream",
     "text": [
      "Paris\n",
      "Budapest\n",
      "Bukarest\n",
      "Istanbul\n",
      "Endstation!\n",
      "Endstation!\n",
      "Istanbul\n"
     ]
    }
   ],
   "source": [
    "orientexpress = Train([\"Paris\", \"Budapest\", \"Bukarest\", \"Istanbul\"], 0)\n",
    "orientexpress.show_station()\n",
    "orientexpress.move()\n",
    "orientexpress.show_station()\n",
    "orientexpress.move()\n",
    "orientexpress.show_station()\n",
    "orientexpress.move()\n",
    "orientexpress.show_station()\n",
    "orientexpress.move()\n",
    "orientexpress.move_back()\n",
    "orientexpress.show_station()"
   ]
  },
  {
   "cell_type": "code",
   "execution_count": 83,
   "metadata": {},
   "outputs": [
    {
     "name": "stdout",
     "output_type": "stream",
     "text": [
      "Bukarest\n"
     ]
    }
   ],
   "source": [
    "orientexpress = Train([\"Paris\", \"Budapest\", \"Bukarest\", \"Istanbul\"], 0)\n",
    "orientexpress.bypass_station(\"Budapest\")\n",
    "orientexpress.move()\n",
    "orientexpress.show_station()"
   ]
  },
  {
   "cell_type": "code",
   "execution_count": null,
   "metadata": {},
   "outputs": [],
   "source": []
  }
 ],
 "metadata": {
  "kernelspec": {
   "display_name": "Python 3",
   "language": "python",
   "name": "python3"
  },
  "language_info": {
   "codemirror_mode": {
    "name": "ipython",
    "version": 3
   },
   "file_extension": ".py",
   "mimetype": "text/x-python",
   "name": "python",
   "nbconvert_exporter": "python",
   "pygments_lexer": "ipython3",
   "version": "3.8.5"
  }
 },
 "nbformat": 4,
 "nbformat_minor": 4
}
