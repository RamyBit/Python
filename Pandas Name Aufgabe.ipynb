{
 "cells": [
  {
   "cell_type": "code",
   "execution_count": 3,
   "metadata": {},
   "outputs": [],
   "source": [
    "%matplotlib inline\n",
    "import pandas as pd\n",
    "import matplotlib.pyplot as plt"
   ]
  },
  {
   "cell_type": "code",
   "execution_count": 4,
   "metadata": {},
   "outputs": [],
   "source": [
    "name =\"Anna\"\n",
    "gender = \"F\"\n",
    "state = \"CA\""
   ]
  },
  {
   "cell_type": "code",
   "execution_count": 5,
   "metadata": {},
   "outputs": [],
   "source": [
    "df = pd.read_csv(\"data/names.csv\")"
   ]
  },
  {
   "cell_type": "code",
   "execution_count": 6,
   "metadata": {},
   "outputs": [],
   "source": [
    "df1 = df[df[\"Name\"] == name]\n",
    "df2 = df1[df1[\"Gender\"] == gender]\n",
    "df3 = df2[df2[\"State\"] == state]"
   ]
  },
  {
   "cell_type": "code",
   "execution_count": 7,
   "metadata": {},
   "outputs": [
    {
     "data": {
      "text/html": [
       "<div>\n",
       "<style scoped>\n",
       "    .dataframe tbody tr th:only-of-type {\n",
       "        vertical-align: middle;\n",
       "    }\n",
       "\n",
       "    .dataframe tbody tr th {\n",
       "        vertical-align: top;\n",
       "    }\n",
       "\n",
       "    .dataframe thead th {\n",
       "        text-align: right;\n",
       "    }\n",
       "</style>\n",
       "<table border=\"1\" class=\"dataframe\">\n",
       "  <thead>\n",
       "    <tr style=\"text-align: right;\">\n",
       "      <th></th>\n",
       "      <th>Id</th>\n",
       "      <th>Name</th>\n",
       "      <th>Year</th>\n",
       "      <th>Gender</th>\n",
       "      <th>State</th>\n",
       "      <th>Count</th>\n",
       "    </tr>\n",
       "  </thead>\n",
       "  <tbody>\n",
       "    <tr>\n",
       "      <th>356048</th>\n",
       "      <td>356049</td>\n",
       "      <td>Anna</td>\n",
       "      <td>1910</td>\n",
       "      <td>F</td>\n",
       "      <td>CA</td>\n",
       "      <td>51</td>\n",
       "    </tr>\n",
       "    <tr>\n",
       "      <th>356276</th>\n",
       "      <td>356277</td>\n",
       "      <td>Anna</td>\n",
       "      <td>1911</td>\n",
       "      <td>F</td>\n",
       "      <td>CA</td>\n",
       "      <td>57</td>\n",
       "    </tr>\n",
       "    <tr>\n",
       "      <th>356528</th>\n",
       "      <td>356529</td>\n",
       "      <td>Anna</td>\n",
       "      <td>1912</td>\n",
       "      <td>F</td>\n",
       "      <td>CA</td>\n",
       "      <td>76</td>\n",
       "    </tr>\n",
       "    <tr>\n",
       "      <th>356835</th>\n",
       "      <td>356836</td>\n",
       "      <td>Anna</td>\n",
       "      <td>1913</td>\n",
       "      <td>F</td>\n",
       "      <td>CA</td>\n",
       "      <td>86</td>\n",
       "    </tr>\n",
       "    <tr>\n",
       "      <th>357172</th>\n",
       "      <td>357173</td>\n",
       "      <td>Anna</td>\n",
       "      <td>1914</td>\n",
       "      <td>F</td>\n",
       "      <td>CA</td>\n",
       "      <td>95</td>\n",
       "    </tr>\n",
       "    <tr>\n",
       "      <th>...</th>\n",
       "      <td>...</td>\n",
       "      <td>...</td>\n",
       "      <td>...</td>\n",
       "      <td>...</td>\n",
       "      <td>...</td>\n",
       "      <td>...</td>\n",
       "    </tr>\n",
       "    <tr>\n",
       "      <th>545483</th>\n",
       "      <td>545484</td>\n",
       "      <td>Anna</td>\n",
       "      <td>2010</td>\n",
       "      <td>F</td>\n",
       "      <td>CA</td>\n",
       "      <td>357</td>\n",
       "    </tr>\n",
       "    <tr>\n",
       "      <th>549577</th>\n",
       "      <td>549578</td>\n",
       "      <td>Anna</td>\n",
       "      <td>2011</td>\n",
       "      <td>F</td>\n",
       "      <td>CA</td>\n",
       "      <td>355</td>\n",
       "    </tr>\n",
       "    <tr>\n",
       "      <th>553565</th>\n",
       "      <td>553566</td>\n",
       "      <td>Anna</td>\n",
       "      <td>2012</td>\n",
       "      <td>F</td>\n",
       "      <td>CA</td>\n",
       "      <td>365</td>\n",
       "    </tr>\n",
       "    <tr>\n",
       "      <th>557656</th>\n",
       "      <td>557657</td>\n",
       "      <td>Anna</td>\n",
       "      <td>2013</td>\n",
       "      <td>F</td>\n",
       "      <td>CA</td>\n",
       "      <td>375</td>\n",
       "    </tr>\n",
       "    <tr>\n",
       "      <th>561579</th>\n",
       "      <td>561580</td>\n",
       "      <td>Anna</td>\n",
       "      <td>2014</td>\n",
       "      <td>F</td>\n",
       "      <td>CA</td>\n",
       "      <td>462</td>\n",
       "    </tr>\n",
       "  </tbody>\n",
       "</table>\n",
       "<p>105 rows × 6 columns</p>\n",
       "</div>"
      ],
      "text/plain": [
       "            Id  Name  Year Gender State  Count\n",
       "356048  356049  Anna  1910      F    CA     51\n",
       "356276  356277  Anna  1911      F    CA     57\n",
       "356528  356529  Anna  1912      F    CA     76\n",
       "356835  356836  Anna  1913      F    CA     86\n",
       "357172  357173  Anna  1914      F    CA     95\n",
       "...        ...   ...   ...    ...   ...    ...\n",
       "545483  545484  Anna  2010      F    CA    357\n",
       "549577  549578  Anna  2011      F    CA    355\n",
       "553565  553566  Anna  2012      F    CA    365\n",
       "557656  557657  Anna  2013      F    CA    375\n",
       "561579  561580  Anna  2014      F    CA    462\n",
       "\n",
       "[105 rows x 6 columns]"
      ]
     },
     "execution_count": 7,
     "metadata": {},
     "output_type": "execute_result"
    }
   ],
   "source": [
    "df3"
   ]
  },
  {
   "cell_type": "code",
   "execution_count": 8,
   "metadata": {},
   "outputs": [
    {
     "data": {
      "text/html": [
       "<div>\n",
       "<style scoped>\n",
       "    .dataframe tbody tr th:only-of-type {\n",
       "        vertical-align: middle;\n",
       "    }\n",
       "\n",
       "    .dataframe tbody tr th {\n",
       "        vertical-align: top;\n",
       "    }\n",
       "\n",
       "    .dataframe thead th {\n",
       "        text-align: right;\n",
       "    }\n",
       "</style>\n",
       "<table border=\"1\" class=\"dataframe\">\n",
       "  <thead>\n",
       "    <tr style=\"text-align: right;\">\n",
       "      <th></th>\n",
       "      <th>Id</th>\n",
       "      <th>Name</th>\n",
       "      <th>Year</th>\n",
       "      <th>Gender</th>\n",
       "      <th>State</th>\n",
       "      <th>Count</th>\n",
       "    </tr>\n",
       "  </thead>\n",
       "  <tbody>\n",
       "    <tr>\n",
       "      <th>356048</th>\n",
       "      <td>356049</td>\n",
       "      <td>Anna</td>\n",
       "      <td>1910</td>\n",
       "      <td>F</td>\n",
       "      <td>CA</td>\n",
       "      <td>51</td>\n",
       "    </tr>\n",
       "    <tr>\n",
       "      <th>356276</th>\n",
       "      <td>356277</td>\n",
       "      <td>Anna</td>\n",
       "      <td>1911</td>\n",
       "      <td>F</td>\n",
       "      <td>CA</td>\n",
       "      <td>57</td>\n",
       "    </tr>\n",
       "    <tr>\n",
       "      <th>356528</th>\n",
       "      <td>356529</td>\n",
       "      <td>Anna</td>\n",
       "      <td>1912</td>\n",
       "      <td>F</td>\n",
       "      <td>CA</td>\n",
       "      <td>76</td>\n",
       "    </tr>\n",
       "    <tr>\n",
       "      <th>356835</th>\n",
       "      <td>356836</td>\n",
       "      <td>Anna</td>\n",
       "      <td>1913</td>\n",
       "      <td>F</td>\n",
       "      <td>CA</td>\n",
       "      <td>86</td>\n",
       "    </tr>\n",
       "    <tr>\n",
       "      <th>357172</th>\n",
       "      <td>357173</td>\n",
       "      <td>Anna</td>\n",
       "      <td>1914</td>\n",
       "      <td>F</td>\n",
       "      <td>CA</td>\n",
       "      <td>95</td>\n",
       "    </tr>\n",
       "    <tr>\n",
       "      <th>...</th>\n",
       "      <td>...</td>\n",
       "      <td>...</td>\n",
       "      <td>...</td>\n",
       "      <td>...</td>\n",
       "      <td>...</td>\n",
       "      <td>...</td>\n",
       "    </tr>\n",
       "    <tr>\n",
       "      <th>545483</th>\n",
       "      <td>545484</td>\n",
       "      <td>Anna</td>\n",
       "      <td>2010</td>\n",
       "      <td>F</td>\n",
       "      <td>CA</td>\n",
       "      <td>357</td>\n",
       "    </tr>\n",
       "    <tr>\n",
       "      <th>549577</th>\n",
       "      <td>549578</td>\n",
       "      <td>Anna</td>\n",
       "      <td>2011</td>\n",
       "      <td>F</td>\n",
       "      <td>CA</td>\n",
       "      <td>355</td>\n",
       "    </tr>\n",
       "    <tr>\n",
       "      <th>553565</th>\n",
       "      <td>553566</td>\n",
       "      <td>Anna</td>\n",
       "      <td>2012</td>\n",
       "      <td>F</td>\n",
       "      <td>CA</td>\n",
       "      <td>365</td>\n",
       "    </tr>\n",
       "    <tr>\n",
       "      <th>557656</th>\n",
       "      <td>557657</td>\n",
       "      <td>Anna</td>\n",
       "      <td>2013</td>\n",
       "      <td>F</td>\n",
       "      <td>CA</td>\n",
       "      <td>375</td>\n",
       "    </tr>\n",
       "    <tr>\n",
       "      <th>561579</th>\n",
       "      <td>561580</td>\n",
       "      <td>Anna</td>\n",
       "      <td>2014</td>\n",
       "      <td>F</td>\n",
       "      <td>CA</td>\n",
       "      <td>462</td>\n",
       "    </tr>\n",
       "  </tbody>\n",
       "</table>\n",
       "<p>105 rows × 6 columns</p>\n",
       "</div>"
      ],
      "text/plain": [
       "            Id  Name  Year Gender State  Count\n",
       "356048  356049  Anna  1910      F    CA     51\n",
       "356276  356277  Anna  1911      F    CA     57\n",
       "356528  356529  Anna  1912      F    CA     76\n",
       "356835  356836  Anna  1913      F    CA     86\n",
       "357172  357173  Anna  1914      F    CA     95\n",
       "...        ...   ...   ...    ...   ...    ...\n",
       "545483  545484  Anna  2010      F    CA    357\n",
       "549577  549578  Anna  2011      F    CA    355\n",
       "553565  553566  Anna  2012      F    CA    365\n",
       "557656  557657  Anna  2013      F    CA    375\n",
       "561579  561580  Anna  2014      F    CA    462\n",
       "\n",
       "[105 rows x 6 columns]"
      ]
     },
     "execution_count": 8,
     "metadata": {},
     "output_type": "execute_result"
    }
   ],
   "source": [
    "df4 = df3.sort_values(\"Year\")\n",
    "df4"
   ]
  },
  {
   "cell_type": "code",
   "execution_count": 9,
   "metadata": {},
   "outputs": [
    {
     "data": {
      "image/png": "[encoded data removed]",
      "text/plain": [
       "<Figure size 432x288 with 1 Axes>"
      ]
     },
     "metadata": {
      "needs_background": "light"
     },
     "output_type": "display_data"
    }
   ],
   "source": [
    "plt.plot(df4[\"Year\"],df4[\"Count\"],color = \"#ff0000\", linestyle=\"dashed\",marker=\"o\",label=\"Count\")\n",
    "plt.legend()\n",
    "plt.show()"
   ]
  },
  {
   "cell_type": "code",
   "execution_count": 10,
   "metadata": {},
   "outputs": [
    {
     "data": {
      "image/png": "[encoded data removed]",
      "text/plain": [
       "<Figure size 432x288 with 1 Axes>"
      ]
     },
     "metadata": {
      "needs_background": "light"
     },
     "output_type": "display_data"
    }
   ],
   "source": [
    "plt.bar(df4[\"Year\"],df4[\"Count\"])\n",
    "plt.show()"
   ]
  },
  {
   "cell_type": "code",
   "execution_count": 11,
   "metadata": {},
   "outputs": [
    {
     "data": {
      "image/png": "[encoded data removed]",
      "text/plain": [
       "<Figure size 432x288 with 1 Axes>"
      ]
     },
     "metadata": {
      "needs_background": "light"
     },
     "output_type": "display_data"
    }
   ],
   "source": [
    "plt.scatter(df4[\"Year\"],df4[\"Count\"])\n",
    "plt.show()"
   ]
  },
  {
   "cell_type": "code",
   "execution_count": 12,
   "metadata": {},
   "outputs": [
    {
     "data": {
      "text/plain": [
       "<function matplotlib.pyplot.show(close=None, block=None)>"
      ]
     },
     "execution_count": 12,
     "metadata": {},
     "output_type": "execute_result"
    },
    {
     "data": {
      "image/png": "[encoded data removed]",
      "text/plain": [
       "<Figure size 432x288 with 1 Axes>"
      ]
     },
     "metadata": {
      "needs_background": "light"
     },
     "output_type": "display_data"
    }
   ],
   "source": [
    "xs = df4[\"Year\"]\n",
    "ys = df4[\"Count\"]\n",
    "\n",
    "plt.plot(xs,ys)\n",
    "plt.show"
   ]
  },
  {
   "cell_type": "code",
   "execution_count": 17,
   "metadata": {},
   "outputs": [],
   "source": [
    "from sklearn.linear_model import LinearRegression"
   ]
  },
  {
   "cell_type": "code",
   "execution_count": 20,
   "metadata": {},
   "outputs": [
    {
     "data": {
      "text/plain": [
       "LinearRegression()"
      ]
     },
     "execution_count": 20,
     "metadata": {},
     "output_type": "execute_result"
    }
   ],
   "source": [
    "xsl=[]\n",
    "for x in xs:\n",
    "    xsl.append([x])\n",
    "    \n",
    "model = LinearRegression()\n",
    "model.fit(xsl, ys)"
   ]
  },
  {
   "cell_type": "code",
   "execution_count": 28,
   "metadata": {},
   "outputs": [],
   "source": [
    "prediction = model.predict(xsl)"
   ]
  },
  {
   "cell_type": "code",
   "execution_count": 31,
   "metadata": {},
   "outputs": [
    {
     "data": {
      "text/plain": [
       "<function matplotlib.pyplot.show(close=None, block=None)>"
      ]
     },
     "execution_count": 31,
     "metadata": {},
     "output_type": "execute_result"
    },
    {
     "data": {
      "image/png": "[encoded data removed]",
      "text/plain": [
       "<Figure size 432x288 with 1 Axes>"
      ]
     },
     "metadata": {
      "needs_background": "light"
     },
     "output_type": "display_data"
    }
   ],
   "source": [
    "plt.plot(xs, ys, label=\"Count\")\n",
    "plt.plot(xs, prediction, label = \"Predition\")\n",
    "plt.show"
   ]
  },
  {
   "cell_type": "code",
   "execution_count": null,
   "metadata": {},
   "outputs": [],
   "source": []
  }
 ],
 "metadata": {
  "kernelspec": {
   "display_name": "Python 3",
   "language": "python",
   "name": "python3"
  },
  "language_info": {
   "codemirror_mode": {
    "name": "ipython",
    "version": 3
   },
   "file_extension": ".py",
   "mimetype": "text/x-python",
   "name": "python",
   "nbconvert_exporter": "python",
   "pygments_lexer": "ipython3",
   "version": "3.8.5"
  }
 },
 "nbformat": 4,
 "nbformat_minor": 4
}
