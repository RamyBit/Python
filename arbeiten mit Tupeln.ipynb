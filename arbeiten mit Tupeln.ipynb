{
 "cells": [
  {
   "cell_type": "code",
   "execution_count": 2,
   "metadata": {},
   "outputs": [
    {
     "name": "stdout",
     "output_type": "stream",
     "text": [
      "Max Mustermann\n",
      "33\n",
      "Informatik\n"
     ]
    }
   ],
   "source": [
    "student = (\"Max Mustermann\", 33, \"Informatik\")\n",
    "name, age, subject = student\n",
    "# name = student[0]\n",
    "# age = student[1]\n",
    "# subject = student[2]\n",
    "\n",
    "print(name)\n",
    "print(age)\n",
    "print(subject)"
   ]
  },
  {
   "cell_type": "code",
   "execution_count": 4,
   "metadata": {},
   "outputs": [
    {
     "name": "stdout",
     "output_type": "stream",
     "text": [
      "Max Mustermann\n",
      "33\n",
      "Informatik\n",
      "Erika\n",
      "24\n",
      "fotografie\n"
     ]
    }
   ],
   "source": [
    "students = [(\"Max Mustermann\", 33, \"Informatik\"), (\"Erika\", 24,\"fotografie\") ]\n",
    "for name, age,subject in students:\n",
    "   # name, age ,subject = student\n",
    "    \n",
    "    print(name)\n",
    "    print(age)\n",
    "    print(subject)"
   ]
  },
  {
   "cell_type": "code",
   "execution_count": null,
   "metadata": {},
   "outputs": [],
   "source": []
  }
 ],
 "metadata": {
  "kernelspec": {
   "display_name": "Python 3",
   "language": "python",
   "name": "python3"
  },
  "language_info": {
   "codemirror_mode": {
    "name": "ipython",
    "version": 3
   },
   "file_extension": ".py",
   "mimetype": "text/x-python",
   "name": "python",
   "nbconvert_exporter": "python",
   "pygments_lexer": "ipython3",
   "version": "3.8.5"
  }
 },
 "nbformat": 4,
 "nbformat_minor": 4
}
