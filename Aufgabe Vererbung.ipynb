{
 "cells": [
  {
   "cell_type": "code",
   "execution_count": 19,
   "metadata": {},
   "outputs": [],
   "source": [
    "class FileReader():\n",
    "    def __init__(self,filename):\n",
    "        self.filename = filename\n",
    "    def lines(self):\n",
    "        lines=[]\n",
    "        with open(self.filename,\"r\") as file:\n",
    "            for line in file:\n",
    "                lines.append(line.strip())\n",
    "            \n",
    "        return lines  \n",
    "    \n",
    "            "
   ]
  },
  {
   "cell_type": "code",
   "execution_count": 20,
   "metadata": {},
   "outputs": [
    {
     "name": "stdout",
     "output_type": "stream",
     "text": [
      "['Nachname,Vorname', 'Mustermann,Max', 'Musterfrau,Monika']\n"
     ]
    }
   ],
   "source": [
    "f = FileReader(\"datei2.csv\")\n",
    "print(f.lines())"
   ]
  },
  {
   "cell_type": "code",
   "execution_count": 38,
   "metadata": {},
   "outputs": [],
   "source": [
    "class CsvReader(FileReader):\n",
    "    def __init__(self,filename):\n",
    "        super().__init__(filename)\n",
    "    def lines(self):\n",
    "        #newlines=[]\n",
    "        lines = super().lines()\n",
    "        return [line.split(\",\") for line in lines]\n",
    "       # for line in lines:            \n",
    "       #     newlines.append(line.split(\",\"))\n",
    "        #return newlines"
   ]
  },
  {
   "cell_type": "code",
   "execution_count": 39,
   "metadata": {},
   "outputs": [
    {
     "name": "stdout",
     "output_type": "stream",
     "text": [
      "[['Nachname', 'Vorname'], ['Mustermann', 'Max'], ['Musterfrau', 'Monika']]\n"
     ]
    }
   ],
   "source": [
    "f = CsvReader(\"datei2.csv\")\n",
    "print(f.lines())"
   ]
  },
  {
   "cell_type": "code",
   "execution_count": null,
   "metadata": {},
   "outputs": [],
   "source": []
  }
 ],
 "metadata": {
  "kernelspec": {
   "display_name": "Python 3",
   "language": "python",
   "name": "python3"
  },
  "language_info": {
   "codemirror_mode": {
    "name": "ipython",
    "version": 3
   },
   "file_extension": ".py",
   "mimetype": "text/x-python",
   "name": "python",
   "nbconvert_exporter": "python",
   "pygments_lexer": "ipython3",
   "version": "3.8.5"
  }
 },
 "nbformat": 4,
 "nbformat_minor": 4
}
