{
 "cells": [
  {
   "cell_type": "markdown",
   "metadata": {},
   "source": [
    "# Überschrift\n",
    "## Überschrift 2. Ordnung\n",
    "### Überschrift 3. Ordnung\n",
    "Ich bin ein *ganz* **normaler** absatz\n",
    "\n",
    "- Liste\n",
    "- Weiterer Punkt\n",
    "- Noch ein Punkt\n",
    "\n",
    "1. numer1 Punkt\n",
    "1. numer1 Punkt\n",
    "1. numer1 Punkt\n",
    "\n",
    "Das hier ist ganz normaler Text\n",
    "> Und dieser Test soll eingerückt sein\n",
    "(Max Mustermann, 2020)\n",
    "\n",
    "|Name       | Nachname  |\n",
    "|-----------|-----------|\n",
    "|Max        | Mustermann|"
   ]
  },
  {
   "cell_type": "markdown",
   "metadata": {},
   "source": [
    "Normaler Text...\n",
    "\n",
    "$ \\alpha < b $\n",
    "\n",
    "$ a^2 < \\sqrt{b} $\n",
    "\n",
    "Der Mathematische Ausdruck: $ k_{n+1} = n^2 + k_n^2 - k_{n-1} $\n",
    "\n",
    "Der Mathematische Ausdruck: $$ \\frac{n!}{k! (n-k)!} = \\binom{n}{k} $$"
   ]
  },
  {
   "cell_type": "code",
   "execution_count": null,
   "metadata": {},
   "outputs": [],
   "source": []
  }
 ],
 "metadata": {
  "kernelspec": {
   "display_name": "Python 3",
   "language": "python",
   "name": "python3"
  },
  "language_info": {
   "codemirror_mode": {
    "name": "ipython",
    "version": 3
   },
   "file_extension": ".py",
   "mimetype": "text/x-python",
   "name": "python",
   "nbconvert_exporter": "python",
   "pygments_lexer": "ipython3",
   "version": "3.8.5"
  }
 },
 "nbformat": 4,
 "nbformat_minor": 4
}
